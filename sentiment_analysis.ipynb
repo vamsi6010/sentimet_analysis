{
  "nbformat": 4,
  "nbformat_minor": 0,
  "metadata": {
    "colab": {
      "name": "sentiment_analysis.ipynb",
      "provenance": [],
      "collapsed_sections": []
    },
    "kernelspec": {
      "name": "python3",
      "display_name": "Python 3"
    },
    "language_info": {
      "name": "python"
    }
  },
  "cells": [
    {
      "cell_type": "code",
      "execution_count": 1,
      "metadata": {
        "colab": {
          "base_uri": "https://localhost:8080/"
        },
        "id": "5oRHVeq6054B",
        "outputId": "3e5b433b-0c08-427c-eb85-6f2698280408"
      },
      "outputs": [
        {
          "output_type": "stream",
          "name": "stderr",
          "text": [
            "/usr/local/lib/python3.7/dist-packages/ipykernel_launcher.py:8: FutureWarning: Passing a negative integer is deprecated in version 1.0 and will not be supported in future version. Instead, use None to not limit the column width.\n",
            "  \n"
          ]
        }
      ],
      "source": [
        "from wordcloud import wordcloud\n",
        "import pandas as pd \n",
        "import numpy as np \n",
        "import matplotlib.pyplot as plt \n",
        "import seaborn as sns \n",
        "import re \n",
        "import textblob as tb\n",
        "pd.set_option('display.max_colwidth', -1)"
      ]
    },
    {
      "cell_type": "code",
      "source": [
        "twitter_data = pd.read_csv('/content/drive/MyDrive/data/twitterdata.csv')"
      ],
      "metadata": {
        "id": "Nm6D9NQ81m-_"
      },
      "execution_count": 2,
      "outputs": []
    },
    {
      "cell_type": "code",
      "source": [
        "twitter_data.head()"
      ],
      "metadata": {
        "colab": {
          "base_uri": "https://localhost:8080/",
          "height": 337
        },
        "id": "sSlPYfKV2HhA",
        "outputId": "3eb984e4-3f5f-49cb-e335-830bb584fbb3"
      },
      "execution_count": 3,
      "outputs": [
        {
          "output_type": "execute_result",
          "data": {
            "text/html": [
              "\n",
              "  <div id=\"df-19faa7f8-b6fa-4ad5-a86b-a8d1a1f685e7\">\n",
              "    <div class=\"colab-df-container\">\n",
              "      <div>\n",
              "<style scoped>\n",
              "    .dataframe tbody tr th:only-of-type {\n",
              "        vertical-align: middle;\n",
              "    }\n",
              "\n",
              "    .dataframe tbody tr th {\n",
              "        vertical-align: top;\n",
              "    }\n",
              "\n",
              "    .dataframe thead th {\n",
              "        text-align: right;\n",
              "    }\n",
              "</style>\n",
              "<table border=\"1\" class=\"dataframe\">\n",
              "  <thead>\n",
              "    <tr style=\"text-align: right;\">\n",
              "      <th></th>\n",
              "      <th>index</th>\n",
              "      <th>Datetime</th>\n",
              "      <th>Tweet Id</th>\n",
              "      <th>replycount</th>\n",
              "      <th>like</th>\n",
              "      <th>content</th>\n",
              "    </tr>\n",
              "  </thead>\n",
              "  <tbody>\n",
              "    <tr>\n",
              "      <th>0</th>\n",
              "      <td>0</td>\n",
              "      <td>2021-12-24 16:11:40+00:00</td>\n",
              "      <td>1474412470085193728</td>\n",
              "      <td>0</td>\n",
              "      <td>0</td>\n",
              "      <td>#AJIO : Sweatshirts and Hoodies under 499₹\\n\\nekaro.in/enkr20211224s7…</td>\n",
              "    </tr>\n",
              "    <tr>\n",
              "      <th>1</th>\n",
              "      <td>1</td>\n",
              "      <td>2021-12-24 15:40:22+00:00</td>\n",
              "      <td>1474404592217587718</td>\n",
              "      <td>1</td>\n",
              "      <td>0</td>\n",
              "      <td>Hello @AJIOLife \\nAlive? Company of your words?😆 #ajio \\n@reliancegroup @RelianceDigital twitter.com/_aabhishake_/s… https://t.co/fRs0JSYTQ6</td>\n",
              "    </tr>\n",
              "    <tr>\n",
              "      <th>2</th>\n",
              "      <td>2</td>\n",
              "      <td>2021-12-24 11:33:55+00:00</td>\n",
              "      <td>1474342568804511745</td>\n",
              "      <td>1</td>\n",
              "      <td>0</td>\n",
              "      <td>#Ajio @AJIOLife Told me To Refund My Amount by 23rd December but Still Refund not Initiated. I Am Complaining about this issue since 15 days. My Refund is Still Not Initiated. Pls Raise Complain Regarding this. https://t.co/lqgSgCYn4m</td>\n",
              "    </tr>\n",
              "    <tr>\n",
              "      <th>3</th>\n",
              "      <td>3</td>\n",
              "      <td>2021-12-24 09:46:20+00:00</td>\n",
              "      <td>1474315497688633344</td>\n",
              "      <td>0</td>\n",
              "      <td>0</td>\n",
              "      <td>Refund not issued by #Ajio, consumer complaint filed against @AJIOLife \\n\\n#AJIOlife\\n#AJIOlifeForMen \\n#AJIOlifeForWomen \\n\\nvoxya.com/view-complaint… https://t.co/2kc2OLbBjr</td>\n",
              "    </tr>\n",
              "    <tr>\n",
              "      <th>4</th>\n",
              "      <td>4</td>\n",
              "      <td>2021-12-24 09:20:05+00:00</td>\n",
              "      <td>1474308891206774784</td>\n",
              "      <td>1</td>\n",
              "      <td>0</td>\n",
              "      <td>@AJIOLife Show me your work then! There is no progress from your side. Other than these auto generated messages. Send me an actual message then I'll wait. #AJIO #Fraud</td>\n",
              "    </tr>\n",
              "  </tbody>\n",
              "</table>\n",
              "</div>\n",
              "      <button class=\"colab-df-convert\" onclick=\"convertToInteractive('df-19faa7f8-b6fa-4ad5-a86b-a8d1a1f685e7')\"\n",
              "              title=\"Convert this dataframe to an interactive table.\"\n",
              "              style=\"display:none;\">\n",
              "        \n",
              "  <svg xmlns=\"http://www.w3.org/2000/svg\" height=\"24px\"viewBox=\"0 0 24 24\"\n",
              "       width=\"24px\">\n",
              "    <path d=\"M0 0h24v24H0V0z\" fill=\"none\"/>\n",
              "    <path d=\"M18.56 5.44l.94 2.06.94-2.06 2.06-.94-2.06-.94-.94-2.06-.94 2.06-2.06.94zm-11 1L8.5 8.5l.94-2.06 2.06-.94-2.06-.94L8.5 2.5l-.94 2.06-2.06.94zm10 10l.94 2.06.94-2.06 2.06-.94-2.06-.94-.94-2.06-.94 2.06-2.06.94z\"/><path d=\"M17.41 7.96l-1.37-1.37c-.4-.4-.92-.59-1.43-.59-.52 0-1.04.2-1.43.59L10.3 9.45l-7.72 7.72c-.78.78-.78 2.05 0 2.83L4 21.41c.39.39.9.59 1.41.59.51 0 1.02-.2 1.41-.59l7.78-7.78 2.81-2.81c.8-.78.8-2.07 0-2.86zM5.41 20L4 18.59l7.72-7.72 1.47 1.35L5.41 20z\"/>\n",
              "  </svg>\n",
              "      </button>\n",
              "      \n",
              "  <style>\n",
              "    .colab-df-container {\n",
              "      display:flex;\n",
              "      flex-wrap:wrap;\n",
              "      gap: 12px;\n",
              "    }\n",
              "\n",
              "    .colab-df-convert {\n",
              "      background-color: #E8F0FE;\n",
              "      border: none;\n",
              "      border-radius: 50%;\n",
              "      cursor: pointer;\n",
              "      display: none;\n",
              "      fill: #1967D2;\n",
              "      height: 32px;\n",
              "      padding: 0 0 0 0;\n",
              "      width: 32px;\n",
              "    }\n",
              "\n",
              "    .colab-df-convert:hover {\n",
              "      background-color: #E2EBFA;\n",
              "      box-shadow: 0px 1px 2px rgba(60, 64, 67, 0.3), 0px 1px 3px 1px rgba(60, 64, 67, 0.15);\n",
              "      fill: #174EA6;\n",
              "    }\n",
              "\n",
              "    [theme=dark] .colab-df-convert {\n",
              "      background-color: #3B4455;\n",
              "      fill: #D2E3FC;\n",
              "    }\n",
              "\n",
              "    [theme=dark] .colab-df-convert:hover {\n",
              "      background-color: #434B5C;\n",
              "      box-shadow: 0px 1px 3px 1px rgba(0, 0, 0, 0.15);\n",
              "      filter: drop-shadow(0px 1px 2px rgba(0, 0, 0, 0.3));\n",
              "      fill: #FFFFFF;\n",
              "    }\n",
              "  </style>\n",
              "\n",
              "      <script>\n",
              "        const buttonEl =\n",
              "          document.querySelector('#df-19faa7f8-b6fa-4ad5-a86b-a8d1a1f685e7 button.colab-df-convert');\n",
              "        buttonEl.style.display =\n",
              "          google.colab.kernel.accessAllowed ? 'block' : 'none';\n",
              "\n",
              "        async function convertToInteractive(key) {\n",
              "          const element = document.querySelector('#df-19faa7f8-b6fa-4ad5-a86b-a8d1a1f685e7');\n",
              "          const dataTable =\n",
              "            await google.colab.kernel.invokeFunction('convertToInteractive',\n",
              "                                                     [key], {});\n",
              "          if (!dataTable) return;\n",
              "\n",
              "          const docLinkHtml = 'Like what you see? Visit the ' +\n",
              "            '<a target=\"_blank\" href=https://colab.research.google.com/notebooks/data_table.ipynb>data table notebook</a>'\n",
              "            + ' to learn more about interactive tables.';\n",
              "          element.innerHTML = '';\n",
              "          dataTable['output_type'] = 'display_data';\n",
              "          await google.colab.output.renderOutput(dataTable, element);\n",
              "          const docLink = document.createElement('div');\n",
              "          docLink.innerHTML = docLinkHtml;\n",
              "          element.appendChild(docLink);\n",
              "        }\n",
              "      </script>\n",
              "    </div>\n",
              "  </div>\n",
              "  "
            ],
            "text/plain": [
              "   index  ...                                                                                                                                                                                                                                     content\n",
              "0  0      ...  #AJIO : Sweatshirts and Hoodies under 499₹\\n\\nekaro.in/enkr20211224s7…                                                                                                                                                                    \n",
              "1  1      ...  Hello @AJIOLife \\nAlive? Company of your words?😆 #ajio \\n@reliancegroup @RelianceDigital twitter.com/_aabhishake_/s… https://t.co/fRs0JSYTQ6                                                                                              \n",
              "2  2      ...  #Ajio @AJIOLife Told me To Refund My Amount by 23rd December but Still Refund not Initiated. I Am Complaining about this issue since 15 days. My Refund is Still Not Initiated. Pls Raise Complain Regarding this. https://t.co/lqgSgCYn4m\n",
              "3  3      ...  Refund not issued by #Ajio, consumer complaint filed against @AJIOLife \\n\\n#AJIOlife\\n#AJIOlifeForMen \\n#AJIOlifeForWomen \\n\\nvoxya.com/view-complaint… https://t.co/2kc2OLbBjr                                                           \n",
              "4  4      ...  @AJIOLife Show me your work then! There is no progress from your side. Other than these auto generated messages. Send me an actual message then I'll wait. #AJIO #Fraud                                                                   \n",
              "\n",
              "[5 rows x 6 columns]"
            ]
          },
          "metadata": {},
          "execution_count": 3
        }
      ]
    },
    {
      "cell_type": "code",
      "source": [
        "twitter_data.isnull().sum()\n",
        "# CHECKING THE NULL VALUES IN THE DATA "
      ],
      "metadata": {
        "colab": {
          "base_uri": "https://localhost:8080/"
        },
        "id": "jrbAlIoV2O1U",
        "outputId": "4ac9cdc0-13fb-447d-f89a-3c6f142aa672"
      },
      "execution_count": 4,
      "outputs": [
        {
          "output_type": "execute_result",
          "data": {
            "text/plain": [
              "index         0\n",
              "Datetime      0\n",
              "Tweet Id      0\n",
              "replycount    0\n",
              "like          0\n",
              "content       0\n",
              "dtype: int64"
            ]
          },
          "metadata": {},
          "execution_count": 4
        }
      ]
    },
    {
      "cell_type": "code",
      "source": [
        "twitter_data.info()\n",
        "#CHECKING THE INFO OF THE DATASET"
      ],
      "metadata": {
        "colab": {
          "base_uri": "https://localhost:8080/"
        },
        "id": "dq7zJITY2R4W",
        "outputId": "9b191367-3409-44b4-a8b2-5e8a7223680b"
      },
      "execution_count": 5,
      "outputs": [
        {
          "output_type": "stream",
          "name": "stdout",
          "text": [
            "<class 'pandas.core.frame.DataFrame'>\n",
            "RangeIndex: 28998 entries, 0 to 28997\n",
            "Data columns (total 6 columns):\n",
            " #   Column      Non-Null Count  Dtype \n",
            "---  ------      --------------  ----- \n",
            " 0   index       28998 non-null  int64 \n",
            " 1   Datetime    28998 non-null  object\n",
            " 2   Tweet Id    28998 non-null  int64 \n",
            " 3   replycount  28998 non-null  int64 \n",
            " 4   like        28998 non-null  int64 \n",
            " 5   content     28998 non-null  object\n",
            "dtypes: int64(4), object(2)\n",
            "memory usage: 1.3+ MB\n"
          ]
        }
      ]
    },
    {
      "cell_type": "code",
      "source": [
        "tweets = twitter_data.copy()\n",
        "# CREATING A COPY OF THE DATASET "
      ],
      "metadata": {
        "id": "kqJWt_6A4Jhp"
      },
      "execution_count": 6,
      "outputs": []
    },
    {
      "cell_type": "code",
      "source": [
        "tweets.drop(['Datetime','Tweet Id'],axis = 1,inplace = True)"
      ],
      "metadata": {
        "id": "RR2hdfdu6SBH"
      },
      "execution_count": 7,
      "outputs": []
    },
    {
      "cell_type": "code",
      "source": [
        "# WRITING A FUCTION TO CLEAN THE CONTENT OF THE DATA "
      ],
      "metadata": {
        "id": "Rjcjl4J06bqP"
      },
      "execution_count": 8,
      "outputs": []
    },
    {
      "cell_type": "code",
      "source": [
        "def cleantweet(tweet):\n",
        "  tweet = re.sub(r'@[A-Za-z0-9]+','',tweet) # to remove @\n",
        "  tweet = re.sub(r'#','',tweet) # to remove hashtags\n",
        "  tweet = re.sub(r'RT[\\s]','',tweet) # to remove retweets \n",
        "  tweet = re.sub(r'https?:\\/\\/\\S+','',tweet) # to remove hyperlinks\n",
        "  tweet = re.sub(r'[^\\w\\s]', '', tweet) # to remove punctuations\n",
        "  tweet = re.sub(r'\\n','',tweet) # to remove next line \n",
        "  tweet = re.sub(r'_','',tweet) # to remove underscore\n",
        "  tweet = re.sub(\" \\d+\", \"\", tweet) # to remove numericals \n",
        "  return tweet "
      ],
      "metadata": {
        "id": "NzR3YTr86zNU"
      },
      "execution_count": 9,
      "outputs": []
    },
    {
      "cell_type": "code",
      "source": [
        "tweets['content'] = tweets['content'].apply(cleantweet)"
      ],
      "metadata": {
        "id": "Rvtr8TRYaUV6"
      },
      "execution_count": 10,
      "outputs": []
    },
    {
      "cell_type": "code",
      "source": [
        "# now lets write another function to remove emojis"
      ],
      "metadata": {
        "id": "BeHnpnsfdenT"
      },
      "execution_count": 11,
      "outputs": []
    },
    {
      "cell_type": "code",
      "source": [
        "def remove_emojis(tweet):\n",
        "  emoji_pattern = re.compile(\"[\"\n",
        "        u\"\\U0001F600-\\U0001F64F\"  # emoticons\n",
        "        u\"\\U0001F300-\\U0001F5FF\"  # symbols & pictographs\n",
        "        u\"\\U0001F680-\\U0001F6FF\"  # transport & map symbols\n",
        "        u\"\\U0001F1E0-\\U0001F1FF\"  # flags (iOS)\n",
        "                           \"]+\", flags=re.UNICODE)\n",
        "  return emoji_pattern.sub(r'', tweet)\n",
        "# here we are getting rid of all the emojis in the text "
      ],
      "metadata": {
        "id": "sRY3fFald2j3"
      },
      "execution_count": 12,
      "outputs": []
    },
    {
      "cell_type": "code",
      "source": [
        "tweets['content'] = tweets['content'].apply(remove_emojis)"
      ],
      "metadata": {
        "id": "Pi0AmNeHirjA"
      },
      "execution_count": 13,
      "outputs": []
    },
    {
      "cell_type": "code",
      "source": [
        "tweets.content.head(400)"
      ],
      "metadata": {
        "colab": {
          "base_uri": "https://localhost:8080/"
        },
        "id": "_FKRSQY6jPhg",
        "outputId": "fbb62264-fbad-4c0f-c0d8-ec3f90dca3fd"
      },
      "execution_count": 14,
      "outputs": [
        {
          "output_type": "execute_result",
          "data": {
            "text/plain": [
              "0      AJIO  Sweatshirts and Hoodies underekaroinenkr20211224s7                                                                                                                                        \n",
              "1      Hello  Alive Company of your words ajio   twittercomaabhishakes                                                                                                                                 \n",
              "2      Ajio  Told me To Refund My Amount byrd December but Still Refund not Initiated I Am Complaining about this issue since days My Refund is Still Not Initiated Pls Raise Complain Regarding this  \n",
              "3      Refund not issued by Ajio consumer complaint filed against  AJIOlifeAJIOlifeForMen AJIOlifeForWomen voxyacomviewcomplaint                                                                       \n",
              "4       Show me your work then There is no progress from your side Other than these auto generated messages Send me an actual message then Ill wait AJIO Fraud                                         \n",
              "                                                                                ...                                                                                                                    \n",
              "395    Offer  Get min off on Footwear couponpatcombrandbrphpi coupons discounts offerssale dealsoftheday ajiowomenclothes menclothesfashion footwear shoes                                             \n",
              "396    Offer  Buy Starting At Rs99 Store couponpatcombrandbrphpi coupons discounts offerssale dealsoftheday ajiowomenclothes menclothesfashion footwear shoes                                          \n",
              "397    AJIO  Upto off on JACK amp JONESzngyinjP7F                                                                                                                                                      \n",
              "398     Ajio RelianceIndustries reliance vineethnair Have you started a new venture of eating up money and harassing customers Your customer care people LIE EMAILS ARE NOT REPLIED TO Shameless people\n",
              "399    Ajio  Mens Jackets fromzngyinjP7z                                                                                                                                                               \n",
              "Name: content, Length: 400, dtype: object"
            ]
          },
          "metadata": {},
          "execution_count": 14
        }
      ]
    },
    {
      "cell_type": "code",
      "source": [
        "#lets find subjectivity and polarity"
      ],
      "metadata": {
        "id": "eaHaSImvsWU-"
      },
      "execution_count": 15,
      "outputs": []
    },
    {
      "cell_type": "code",
      "source": [
        "def subjectivity(tweet):\n",
        "  return tb.TextBlob(tweet).sentiment.subjectivity"
      ],
      "metadata": {
        "id": "gZBbJxzftZa7"
      },
      "execution_count": 16,
      "outputs": []
    },
    {
      "cell_type": "code",
      "source": [
        "tweets['Subjectivity'] = tweets['content'].apply(subjectivity)"
      ],
      "metadata": {
        "id": "AHH4V0SDtcTh"
      },
      "execution_count": 17,
      "outputs": []
    },
    {
      "cell_type": "code",
      "source": [
        "tweets"
      ],
      "metadata": {
        "colab": {
          "base_uri": "https://localhost:8080/",
          "height": 537
        },
        "id": "zM4zJwpwt70A",
        "outputId": "228ff2da-a9ad-4b9e-b921-c89e2f0e8135"
      },
      "execution_count": 18,
      "outputs": [
        {
          "output_type": "execute_result",
          "data": {
            "text/html": [
              "\n",
              "  <div id=\"df-03b477dc-7b02-45df-8048-fc3d379339ee\">\n",
              "    <div class=\"colab-df-container\">\n",
              "      <div>\n",
              "<style scoped>\n",
              "    .dataframe tbody tr th:only-of-type {\n",
              "        vertical-align: middle;\n",
              "    }\n",
              "\n",
              "    .dataframe tbody tr th {\n",
              "        vertical-align: top;\n",
              "    }\n",
              "\n",
              "    .dataframe thead th {\n",
              "        text-align: right;\n",
              "    }\n",
              "</style>\n",
              "<table border=\"1\" class=\"dataframe\">\n",
              "  <thead>\n",
              "    <tr style=\"text-align: right;\">\n",
              "      <th></th>\n",
              "      <th>index</th>\n",
              "      <th>replycount</th>\n",
              "      <th>like</th>\n",
              "      <th>content</th>\n",
              "      <th>Subjectivity</th>\n",
              "    </tr>\n",
              "  </thead>\n",
              "  <tbody>\n",
              "    <tr>\n",
              "      <th>0</th>\n",
              "      <td>0</td>\n",
              "      <td>0</td>\n",
              "      <td>0</td>\n",
              "      <td>AJIO  Sweatshirts and Hoodies underekaroinenkr20211224s7</td>\n",
              "      <td>0.000000</td>\n",
              "    </tr>\n",
              "    <tr>\n",
              "      <th>1</th>\n",
              "      <td>1</td>\n",
              "      <td>1</td>\n",
              "      <td>0</td>\n",
              "      <td>Hello  Alive Company of your words ajio   twittercomaabhishakes</td>\n",
              "      <td>0.400000</td>\n",
              "    </tr>\n",
              "    <tr>\n",
              "      <th>2</th>\n",
              "      <td>2</td>\n",
              "      <td>1</td>\n",
              "      <td>0</td>\n",
              "      <td>Ajio  Told me To Refund My Amount byrd December but Still Refund not Initiated I Am Complaining about this issue since days My Refund is Still Not Initiated Pls Raise Complain Regarding this</td>\n",
              "      <td>0.000000</td>\n",
              "    </tr>\n",
              "    <tr>\n",
              "      <th>3</th>\n",
              "      <td>3</td>\n",
              "      <td>0</td>\n",
              "      <td>0</td>\n",
              "      <td>Refund not issued by Ajio consumer complaint filed against  AJIOlifeAJIOlifeForMen AJIOlifeForWomen voxyacomviewcomplaint</td>\n",
              "      <td>0.200000</td>\n",
              "    </tr>\n",
              "    <tr>\n",
              "      <th>4</th>\n",
              "      <td>4</td>\n",
              "      <td>1</td>\n",
              "      <td>0</td>\n",
              "      <td>Show me your work then There is no progress from your side Other than these auto generated messages Send me an actual message then Ill wait AJIO Fraud</td>\n",
              "      <td>0.491667</td>\n",
              "    </tr>\n",
              "    <tr>\n",
              "      <th>...</th>\n",
              "      <td>...</td>\n",
              "      <td>...</td>\n",
              "      <td>...</td>\n",
              "      <td>...</td>\n",
              "      <td>...</td>\n",
              "    </tr>\n",
              "    <tr>\n",
              "      <th>28993</th>\n",
              "      <td>28993</td>\n",
              "      <td>1</td>\n",
              "      <td>0</td>\n",
              "      <td>com Matte Grey Black Grey Solid Full Rim Aviator Lenskart Air LA Clip On LA E13284C1 Eyeglasses lenskartcomlenskartairl</td>\n",
              "      <td>0.256667</td>\n",
              "    </tr>\n",
              "    <tr>\n",
              "      <th>28994</th>\n",
              "      <td>28994</td>\n",
              "      <td>1</td>\n",
              "      <td>0</td>\n",
              "      <td>com today Ive taken your Gold membership placing one pair classes orderTrust same will be live up on the my expectation</td>\n",
              "      <td>0.312500</td>\n",
              "    </tr>\n",
              "    <tr>\n",
              "      <th>28995</th>\n",
              "      <td>28995</td>\n",
              "      <td>0</td>\n",
              "      <td>0</td>\n",
              "      <td>upadhyay com  MOTIYABEEN ka ilaz karte ho kyaIss bande karwana hai Naa jaane kaise sweemt lobe kar lete hai bina dekhe</td>\n",
              "      <td>0.000000</td>\n",
              "    </tr>\n",
              "    <tr>\n",
              "      <th>28996</th>\n",
              "      <td>28996</td>\n",
              "      <td>1</td>\n",
              "      <td>0</td>\n",
              "      <td>Hi We would like to inform you that your request has been escalated and is under followup for the order refund Any update with the same will be informed to you We appreciate your understanding and patience Thank you Prateek</td>\n",
              "      <td>0.125000</td>\n",
              "    </tr>\n",
              "    <tr>\n",
              "      <th>28997</th>\n",
              "      <td>28997</td>\n",
              "      <td>1</td>\n",
              "      <td>0</td>\n",
              "      <td>Smiles Hi Keshav Apologies for the inconvenience We would definitely want to get this right for you We request you to DM direct message us with images of the product highlighting the issue so that we can get that sorted for you Payal</td>\n",
              "      <td>0.478571</td>\n",
              "    </tr>\n",
              "  </tbody>\n",
              "</table>\n",
              "<p>28998 rows × 5 columns</p>\n",
              "</div>\n",
              "      <button class=\"colab-df-convert\" onclick=\"convertToInteractive('df-03b477dc-7b02-45df-8048-fc3d379339ee')\"\n",
              "              title=\"Convert this dataframe to an interactive table.\"\n",
              "              style=\"display:none;\">\n",
              "        \n",
              "  <svg xmlns=\"http://www.w3.org/2000/svg\" height=\"24px\"viewBox=\"0 0 24 24\"\n",
              "       width=\"24px\">\n",
              "    <path d=\"M0 0h24v24H0V0z\" fill=\"none\"/>\n",
              "    <path d=\"M18.56 5.44l.94 2.06.94-2.06 2.06-.94-2.06-.94-.94-2.06-.94 2.06-2.06.94zm-11 1L8.5 8.5l.94-2.06 2.06-.94-2.06-.94L8.5 2.5l-.94 2.06-2.06.94zm10 10l.94 2.06.94-2.06 2.06-.94-2.06-.94-.94-2.06-.94 2.06-2.06.94z\"/><path d=\"M17.41 7.96l-1.37-1.37c-.4-.4-.92-.59-1.43-.59-.52 0-1.04.2-1.43.59L10.3 9.45l-7.72 7.72c-.78.78-.78 2.05 0 2.83L4 21.41c.39.39.9.59 1.41.59.51 0 1.02-.2 1.41-.59l7.78-7.78 2.81-2.81c.8-.78.8-2.07 0-2.86zM5.41 20L4 18.59l7.72-7.72 1.47 1.35L5.41 20z\"/>\n",
              "  </svg>\n",
              "      </button>\n",
              "      \n",
              "  <style>\n",
              "    .colab-df-container {\n",
              "      display:flex;\n",
              "      flex-wrap:wrap;\n",
              "      gap: 12px;\n",
              "    }\n",
              "\n",
              "    .colab-df-convert {\n",
              "      background-color: #E8F0FE;\n",
              "      border: none;\n",
              "      border-radius: 50%;\n",
              "      cursor: pointer;\n",
              "      display: none;\n",
              "      fill: #1967D2;\n",
              "      height: 32px;\n",
              "      padding: 0 0 0 0;\n",
              "      width: 32px;\n",
              "    }\n",
              "\n",
              "    .colab-df-convert:hover {\n",
              "      background-color: #E2EBFA;\n",
              "      box-shadow: 0px 1px 2px rgba(60, 64, 67, 0.3), 0px 1px 3px 1px rgba(60, 64, 67, 0.15);\n",
              "      fill: #174EA6;\n",
              "    }\n",
              "\n",
              "    [theme=dark] .colab-df-convert {\n",
              "      background-color: #3B4455;\n",
              "      fill: #D2E3FC;\n",
              "    }\n",
              "\n",
              "    [theme=dark] .colab-df-convert:hover {\n",
              "      background-color: #434B5C;\n",
              "      box-shadow: 0px 1px 3px 1px rgba(0, 0, 0, 0.15);\n",
              "      filter: drop-shadow(0px 1px 2px rgba(0, 0, 0, 0.3));\n",
              "      fill: #FFFFFF;\n",
              "    }\n",
              "  </style>\n",
              "\n",
              "      <script>\n",
              "        const buttonEl =\n",
              "          document.querySelector('#df-03b477dc-7b02-45df-8048-fc3d379339ee button.colab-df-convert');\n",
              "        buttonEl.style.display =\n",
              "          google.colab.kernel.accessAllowed ? 'block' : 'none';\n",
              "\n",
              "        async function convertToInteractive(key) {\n",
              "          const element = document.querySelector('#df-03b477dc-7b02-45df-8048-fc3d379339ee');\n",
              "          const dataTable =\n",
              "            await google.colab.kernel.invokeFunction('convertToInteractive',\n",
              "                                                     [key], {});\n",
              "          if (!dataTable) return;\n",
              "\n",
              "          const docLinkHtml = 'Like what you see? Visit the ' +\n",
              "            '<a target=\"_blank\" href=https://colab.research.google.com/notebooks/data_table.ipynb>data table notebook</a>'\n",
              "            + ' to learn more about interactive tables.';\n",
              "          element.innerHTML = '';\n",
              "          dataTable['output_type'] = 'display_data';\n",
              "          await google.colab.output.renderOutput(dataTable, element);\n",
              "          const docLink = document.createElement('div');\n",
              "          docLink.innerHTML = docLinkHtml;\n",
              "          element.appendChild(docLink);\n",
              "        }\n",
              "      </script>\n",
              "    </div>\n",
              "  </div>\n",
              "  "
            ],
            "text/plain": [
              "       index  ...  Subjectivity\n",
              "0      0      ...  0.000000    \n",
              "1      1      ...  0.400000    \n",
              "2      2      ...  0.000000    \n",
              "3      3      ...  0.200000    \n",
              "4      4      ...  0.491667    \n",
              "...   ..      ...       ...    \n",
              "28993  28993  ...  0.256667    \n",
              "28994  28994  ...  0.312500    \n",
              "28995  28995  ...  0.000000    \n",
              "28996  28996  ...  0.125000    \n",
              "28997  28997  ...  0.478571    \n",
              "\n",
              "[28998 rows x 5 columns]"
            ]
          },
          "metadata": {},
          "execution_count": 18
        }
      ]
    },
    {
      "cell_type": "code",
      "source": [
        "def polarity(tweet):\n",
        "  return tb.TextBlob(tweet).sentiment.polarity"
      ],
      "metadata": {
        "id": "q_RWWK3MuWtG"
      },
      "execution_count": 19,
      "outputs": []
    },
    {
      "cell_type": "code",
      "source": [
        "tweets['Polarity'] = tweets['content'].apply(polarity) "
      ],
      "metadata": {
        "id": "101BiRoJu78c"
      },
      "execution_count": 20,
      "outputs": []
    },
    {
      "cell_type": "code",
      "source": [
        "tweets"
      ],
      "metadata": {
        "colab": {
          "base_uri": "https://localhost:8080/",
          "height": 537
        },
        "id": "G-iR9sWZvD2v",
        "outputId": "3b8ce098-dacf-4fe5-bccd-7835ca2adf8b"
      },
      "execution_count": 21,
      "outputs": [
        {
          "output_type": "execute_result",
          "data": {
            "text/html": [
              "\n",
              "  <div id=\"df-05d7a692-3b79-4c9a-b766-fcb7b04854bd\">\n",
              "    <div class=\"colab-df-container\">\n",
              "      <div>\n",
              "<style scoped>\n",
              "    .dataframe tbody tr th:only-of-type {\n",
              "        vertical-align: middle;\n",
              "    }\n",
              "\n",
              "    .dataframe tbody tr th {\n",
              "        vertical-align: top;\n",
              "    }\n",
              "\n",
              "    .dataframe thead th {\n",
              "        text-align: right;\n",
              "    }\n",
              "</style>\n",
              "<table border=\"1\" class=\"dataframe\">\n",
              "  <thead>\n",
              "    <tr style=\"text-align: right;\">\n",
              "      <th></th>\n",
              "      <th>index</th>\n",
              "      <th>replycount</th>\n",
              "      <th>like</th>\n",
              "      <th>content</th>\n",
              "      <th>Subjectivity</th>\n",
              "      <th>Polarity</th>\n",
              "    </tr>\n",
              "  </thead>\n",
              "  <tbody>\n",
              "    <tr>\n",
              "      <th>0</th>\n",
              "      <td>0</td>\n",
              "      <td>0</td>\n",
              "      <td>0</td>\n",
              "      <td>AJIO  Sweatshirts and Hoodies underekaroinenkr20211224s7</td>\n",
              "      <td>0.000000</td>\n",
              "      <td>0.000000</td>\n",
              "    </tr>\n",
              "    <tr>\n",
              "      <th>1</th>\n",
              "      <td>1</td>\n",
              "      <td>1</td>\n",
              "      <td>0</td>\n",
              "      <td>Hello  Alive Company of your words ajio   twittercomaabhishakes</td>\n",
              "      <td>0.400000</td>\n",
              "      <td>0.100000</td>\n",
              "    </tr>\n",
              "    <tr>\n",
              "      <th>2</th>\n",
              "      <td>2</td>\n",
              "      <td>1</td>\n",
              "      <td>0</td>\n",
              "      <td>Ajio  Told me To Refund My Amount byrd December but Still Refund not Initiated I Am Complaining about this issue since days My Refund is Still Not Initiated Pls Raise Complain Regarding this</td>\n",
              "      <td>0.000000</td>\n",
              "      <td>0.000000</td>\n",
              "    </tr>\n",
              "    <tr>\n",
              "      <th>3</th>\n",
              "      <td>3</td>\n",
              "      <td>0</td>\n",
              "      <td>0</td>\n",
              "      <td>Refund not issued by Ajio consumer complaint filed against  AJIOlifeAJIOlifeForMen AJIOlifeForWomen voxyacomviewcomplaint</td>\n",
              "      <td>0.200000</td>\n",
              "      <td>-0.300000</td>\n",
              "    </tr>\n",
              "    <tr>\n",
              "      <th>4</th>\n",
              "      <td>4</td>\n",
              "      <td>1</td>\n",
              "      <td>0</td>\n",
              "      <td>Show me your work then There is no progress from your side Other than these auto generated messages Send me an actual message then Ill wait AJIO Fraud</td>\n",
              "      <td>0.491667</td>\n",
              "      <td>-0.208333</td>\n",
              "    </tr>\n",
              "    <tr>\n",
              "      <th>...</th>\n",
              "      <td>...</td>\n",
              "      <td>...</td>\n",
              "      <td>...</td>\n",
              "      <td>...</td>\n",
              "      <td>...</td>\n",
              "      <td>...</td>\n",
              "    </tr>\n",
              "    <tr>\n",
              "      <th>28993</th>\n",
              "      <td>28993</td>\n",
              "      <td>1</td>\n",
              "      <td>0</td>\n",
              "      <td>com Matte Grey Black Grey Solid Full Rim Aviator Lenskart Air LA Clip On LA E13284C1 Eyeglasses lenskartcomlenskartairl</td>\n",
              "      <td>0.256667</td>\n",
              "      <td>0.016667</td>\n",
              "    </tr>\n",
              "    <tr>\n",
              "      <th>28994</th>\n",
              "      <td>28994</td>\n",
              "      <td>1</td>\n",
              "      <td>0</td>\n",
              "      <td>com today Ive taken your Gold membership placing one pair classes orderTrust same will be live up on the my expectation</td>\n",
              "      <td>0.312500</td>\n",
              "      <td>0.068182</td>\n",
              "    </tr>\n",
              "    <tr>\n",
              "      <th>28995</th>\n",
              "      <td>28995</td>\n",
              "      <td>0</td>\n",
              "      <td>0</td>\n",
              "      <td>upadhyay com  MOTIYABEEN ka ilaz karte ho kyaIss bande karwana hai Naa jaane kaise sweemt lobe kar lete hai bina dekhe</td>\n",
              "      <td>0.000000</td>\n",
              "      <td>0.000000</td>\n",
              "    </tr>\n",
              "    <tr>\n",
              "      <th>28996</th>\n",
              "      <td>28996</td>\n",
              "      <td>1</td>\n",
              "      <td>0</td>\n",
              "      <td>Hi We would like to inform you that your request has been escalated and is under followup for the order refund Any update with the same will be informed to you We appreciate your understanding and patience Thank you Prateek</td>\n",
              "      <td>0.125000</td>\n",
              "      <td>0.000000</td>\n",
              "    </tr>\n",
              "    <tr>\n",
              "      <th>28997</th>\n",
              "      <td>28997</td>\n",
              "      <td>1</td>\n",
              "      <td>0</td>\n",
              "      <td>Smiles Hi Keshav Apologies for the inconvenience We would definitely want to get this right for you We request you to DM direct message us with images of the product highlighting the issue so that we can get that sorted for you Payal</td>\n",
              "      <td>0.478571</td>\n",
              "      <td>0.128571</td>\n",
              "    </tr>\n",
              "  </tbody>\n",
              "</table>\n",
              "<p>28998 rows × 6 columns</p>\n",
              "</div>\n",
              "      <button class=\"colab-df-convert\" onclick=\"convertToInteractive('df-05d7a692-3b79-4c9a-b766-fcb7b04854bd')\"\n",
              "              title=\"Convert this dataframe to an interactive table.\"\n",
              "              style=\"display:none;\">\n",
              "        \n",
              "  <svg xmlns=\"http://www.w3.org/2000/svg\" height=\"24px\"viewBox=\"0 0 24 24\"\n",
              "       width=\"24px\">\n",
              "    <path d=\"M0 0h24v24H0V0z\" fill=\"none\"/>\n",
              "    <path d=\"M18.56 5.44l.94 2.06.94-2.06 2.06-.94-2.06-.94-.94-2.06-.94 2.06-2.06.94zm-11 1L8.5 8.5l.94-2.06 2.06-.94-2.06-.94L8.5 2.5l-.94 2.06-2.06.94zm10 10l.94 2.06.94-2.06 2.06-.94-2.06-.94-.94-2.06-.94 2.06-2.06.94z\"/><path d=\"M17.41 7.96l-1.37-1.37c-.4-.4-.92-.59-1.43-.59-.52 0-1.04.2-1.43.59L10.3 9.45l-7.72 7.72c-.78.78-.78 2.05 0 2.83L4 21.41c.39.39.9.59 1.41.59.51 0 1.02-.2 1.41-.59l7.78-7.78 2.81-2.81c.8-.78.8-2.07 0-2.86zM5.41 20L4 18.59l7.72-7.72 1.47 1.35L5.41 20z\"/>\n",
              "  </svg>\n",
              "      </button>\n",
              "      \n",
              "  <style>\n",
              "    .colab-df-container {\n",
              "      display:flex;\n",
              "      flex-wrap:wrap;\n",
              "      gap: 12px;\n",
              "    }\n",
              "\n",
              "    .colab-df-convert {\n",
              "      background-color: #E8F0FE;\n",
              "      border: none;\n",
              "      border-radius: 50%;\n",
              "      cursor: pointer;\n",
              "      display: none;\n",
              "      fill: #1967D2;\n",
              "      height: 32px;\n",
              "      padding: 0 0 0 0;\n",
              "      width: 32px;\n",
              "    }\n",
              "\n",
              "    .colab-df-convert:hover {\n",
              "      background-color: #E2EBFA;\n",
              "      box-shadow: 0px 1px 2px rgba(60, 64, 67, 0.3), 0px 1px 3px 1px rgba(60, 64, 67, 0.15);\n",
              "      fill: #174EA6;\n",
              "    }\n",
              "\n",
              "    [theme=dark] .colab-df-convert {\n",
              "      background-color: #3B4455;\n",
              "      fill: #D2E3FC;\n",
              "    }\n",
              "\n",
              "    [theme=dark] .colab-df-convert:hover {\n",
              "      background-color: #434B5C;\n",
              "      box-shadow: 0px 1px 3px 1px rgba(0, 0, 0, 0.15);\n",
              "      filter: drop-shadow(0px 1px 2px rgba(0, 0, 0, 0.3));\n",
              "      fill: #FFFFFF;\n",
              "    }\n",
              "  </style>\n",
              "\n",
              "      <script>\n",
              "        const buttonEl =\n",
              "          document.querySelector('#df-05d7a692-3b79-4c9a-b766-fcb7b04854bd button.colab-df-convert');\n",
              "        buttonEl.style.display =\n",
              "          google.colab.kernel.accessAllowed ? 'block' : 'none';\n",
              "\n",
              "        async function convertToInteractive(key) {\n",
              "          const element = document.querySelector('#df-05d7a692-3b79-4c9a-b766-fcb7b04854bd');\n",
              "          const dataTable =\n",
              "            await google.colab.kernel.invokeFunction('convertToInteractive',\n",
              "                                                     [key], {});\n",
              "          if (!dataTable) return;\n",
              "\n",
              "          const docLinkHtml = 'Like what you see? Visit the ' +\n",
              "            '<a target=\"_blank\" href=https://colab.research.google.com/notebooks/data_table.ipynb>data table notebook</a>'\n",
              "            + ' to learn more about interactive tables.';\n",
              "          element.innerHTML = '';\n",
              "          dataTable['output_type'] = 'display_data';\n",
              "          await google.colab.output.renderOutput(dataTable, element);\n",
              "          const docLink = document.createElement('div');\n",
              "          docLink.innerHTML = docLinkHtml;\n",
              "          element.appendChild(docLink);\n",
              "        }\n",
              "      </script>\n",
              "    </div>\n",
              "  </div>\n",
              "  "
            ],
            "text/plain": [
              "       index  replycount  ...  Subjectivity  Polarity\n",
              "0      0      0           ...  0.000000      0.000000\n",
              "1      1      1           ...  0.400000      0.100000\n",
              "2      2      1           ...  0.000000      0.000000\n",
              "3      3      0           ...  0.200000     -0.300000\n",
              "4      4      1           ...  0.491667     -0.208333\n",
              "...   ..     ..           ...       ...           ...\n",
              "28993  28993  1           ...  0.256667      0.016667\n",
              "28994  28994  1           ...  0.312500      0.068182\n",
              "28995  28995  0           ...  0.000000      0.000000\n",
              "28996  28996  1           ...  0.125000      0.000000\n",
              "28997  28997  1           ...  0.478571      0.128571\n",
              "\n",
              "[28998 rows x 6 columns]"
            ]
          },
          "metadata": {},
          "execution_count": 21
        }
      ]
    },
    {
      "cell_type": "code",
      "source": [
        "tweets.drop(['index'],axis = 1,inplace = True)"
      ],
      "metadata": {
        "id": "WvWKqE5VvIBQ"
      },
      "execution_count": 22,
      "outputs": []
    },
    {
      "cell_type": "code",
      "source": [
        "final_tweets = tweets[['content','Subjectivity','Polarity']]"
      ],
      "metadata": {
        "id": "1dxu9NsqvNa0"
      },
      "execution_count": 23,
      "outputs": []
    },
    {
      "cell_type": "code",
      "source": [
        "final_tweets"
      ],
      "metadata": {
        "colab": {
          "base_uri": "https://localhost:8080/",
          "height": 520
        },
        "id": "QSKIFjaivywg",
        "outputId": "f1e6db04-6381-47c1-8552-d80a26ce3cf6"
      },
      "execution_count": 24,
      "outputs": [
        {
          "output_type": "execute_result",
          "data": {
            "text/html": [
              "\n",
              "  <div id=\"df-0e932be6-be0f-4c96-8c12-3dcb55e1dc1a\">\n",
              "    <div class=\"colab-df-container\">\n",
              "      <div>\n",
              "<style scoped>\n",
              "    .dataframe tbody tr th:only-of-type {\n",
              "        vertical-align: middle;\n",
              "    }\n",
              "\n",
              "    .dataframe tbody tr th {\n",
              "        vertical-align: top;\n",
              "    }\n",
              "\n",
              "    .dataframe thead th {\n",
              "        text-align: right;\n",
              "    }\n",
              "</style>\n",
              "<table border=\"1\" class=\"dataframe\">\n",
              "  <thead>\n",
              "    <tr style=\"text-align: right;\">\n",
              "      <th></th>\n",
              "      <th>content</th>\n",
              "      <th>Subjectivity</th>\n",
              "      <th>Polarity</th>\n",
              "    </tr>\n",
              "  </thead>\n",
              "  <tbody>\n",
              "    <tr>\n",
              "      <th>0</th>\n",
              "      <td>AJIO  Sweatshirts and Hoodies underekaroinenkr20211224s7</td>\n",
              "      <td>0.000000</td>\n",
              "      <td>0.000000</td>\n",
              "    </tr>\n",
              "    <tr>\n",
              "      <th>1</th>\n",
              "      <td>Hello  Alive Company of your words ajio   twittercomaabhishakes</td>\n",
              "      <td>0.400000</td>\n",
              "      <td>0.100000</td>\n",
              "    </tr>\n",
              "    <tr>\n",
              "      <th>2</th>\n",
              "      <td>Ajio  Told me To Refund My Amount byrd December but Still Refund not Initiated I Am Complaining about this issue since days My Refund is Still Not Initiated Pls Raise Complain Regarding this</td>\n",
              "      <td>0.000000</td>\n",
              "      <td>0.000000</td>\n",
              "    </tr>\n",
              "    <tr>\n",
              "      <th>3</th>\n",
              "      <td>Refund not issued by Ajio consumer complaint filed against  AJIOlifeAJIOlifeForMen AJIOlifeForWomen voxyacomviewcomplaint</td>\n",
              "      <td>0.200000</td>\n",
              "      <td>-0.300000</td>\n",
              "    </tr>\n",
              "    <tr>\n",
              "      <th>4</th>\n",
              "      <td>Show me your work then There is no progress from your side Other than these auto generated messages Send me an actual message then Ill wait AJIO Fraud</td>\n",
              "      <td>0.491667</td>\n",
              "      <td>-0.208333</td>\n",
              "    </tr>\n",
              "    <tr>\n",
              "      <th>...</th>\n",
              "      <td>...</td>\n",
              "      <td>...</td>\n",
              "      <td>...</td>\n",
              "    </tr>\n",
              "    <tr>\n",
              "      <th>28993</th>\n",
              "      <td>com Matte Grey Black Grey Solid Full Rim Aviator Lenskart Air LA Clip On LA E13284C1 Eyeglasses lenskartcomlenskartairl</td>\n",
              "      <td>0.256667</td>\n",
              "      <td>0.016667</td>\n",
              "    </tr>\n",
              "    <tr>\n",
              "      <th>28994</th>\n",
              "      <td>com today Ive taken your Gold membership placing one pair classes orderTrust same will be live up on the my expectation</td>\n",
              "      <td>0.312500</td>\n",
              "      <td>0.068182</td>\n",
              "    </tr>\n",
              "    <tr>\n",
              "      <th>28995</th>\n",
              "      <td>upadhyay com  MOTIYABEEN ka ilaz karte ho kyaIss bande karwana hai Naa jaane kaise sweemt lobe kar lete hai bina dekhe</td>\n",
              "      <td>0.000000</td>\n",
              "      <td>0.000000</td>\n",
              "    </tr>\n",
              "    <tr>\n",
              "      <th>28996</th>\n",
              "      <td>Hi We would like to inform you that your request has been escalated and is under followup for the order refund Any update with the same will be informed to you We appreciate your understanding and patience Thank you Prateek</td>\n",
              "      <td>0.125000</td>\n",
              "      <td>0.000000</td>\n",
              "    </tr>\n",
              "    <tr>\n",
              "      <th>28997</th>\n",
              "      <td>Smiles Hi Keshav Apologies for the inconvenience We would definitely want to get this right for you We request you to DM direct message us with images of the product highlighting the issue so that we can get that sorted for you Payal</td>\n",
              "      <td>0.478571</td>\n",
              "      <td>0.128571</td>\n",
              "    </tr>\n",
              "  </tbody>\n",
              "</table>\n",
              "<p>28998 rows × 3 columns</p>\n",
              "</div>\n",
              "      <button class=\"colab-df-convert\" onclick=\"convertToInteractive('df-0e932be6-be0f-4c96-8c12-3dcb55e1dc1a')\"\n",
              "              title=\"Convert this dataframe to an interactive table.\"\n",
              "              style=\"display:none;\">\n",
              "        \n",
              "  <svg xmlns=\"http://www.w3.org/2000/svg\" height=\"24px\"viewBox=\"0 0 24 24\"\n",
              "       width=\"24px\">\n",
              "    <path d=\"M0 0h24v24H0V0z\" fill=\"none\"/>\n",
              "    <path d=\"M18.56 5.44l.94 2.06.94-2.06 2.06-.94-2.06-.94-.94-2.06-.94 2.06-2.06.94zm-11 1L8.5 8.5l.94-2.06 2.06-.94-2.06-.94L8.5 2.5l-.94 2.06-2.06.94zm10 10l.94 2.06.94-2.06 2.06-.94-2.06-.94-.94-2.06-.94 2.06-2.06.94z\"/><path d=\"M17.41 7.96l-1.37-1.37c-.4-.4-.92-.59-1.43-.59-.52 0-1.04.2-1.43.59L10.3 9.45l-7.72 7.72c-.78.78-.78 2.05 0 2.83L4 21.41c.39.39.9.59 1.41.59.51 0 1.02-.2 1.41-.59l7.78-7.78 2.81-2.81c.8-.78.8-2.07 0-2.86zM5.41 20L4 18.59l7.72-7.72 1.47 1.35L5.41 20z\"/>\n",
              "  </svg>\n",
              "      </button>\n",
              "      \n",
              "  <style>\n",
              "    .colab-df-container {\n",
              "      display:flex;\n",
              "      flex-wrap:wrap;\n",
              "      gap: 12px;\n",
              "    }\n",
              "\n",
              "    .colab-df-convert {\n",
              "      background-color: #E8F0FE;\n",
              "      border: none;\n",
              "      border-radius: 50%;\n",
              "      cursor: pointer;\n",
              "      display: none;\n",
              "      fill: #1967D2;\n",
              "      height: 32px;\n",
              "      padding: 0 0 0 0;\n",
              "      width: 32px;\n",
              "    }\n",
              "\n",
              "    .colab-df-convert:hover {\n",
              "      background-color: #E2EBFA;\n",
              "      box-shadow: 0px 1px 2px rgba(60, 64, 67, 0.3), 0px 1px 3px 1px rgba(60, 64, 67, 0.15);\n",
              "      fill: #174EA6;\n",
              "    }\n",
              "\n",
              "    [theme=dark] .colab-df-convert {\n",
              "      background-color: #3B4455;\n",
              "      fill: #D2E3FC;\n",
              "    }\n",
              "\n",
              "    [theme=dark] .colab-df-convert:hover {\n",
              "      background-color: #434B5C;\n",
              "      box-shadow: 0px 1px 3px 1px rgba(0, 0, 0, 0.15);\n",
              "      filter: drop-shadow(0px 1px 2px rgba(0, 0, 0, 0.3));\n",
              "      fill: #FFFFFF;\n",
              "    }\n",
              "  </style>\n",
              "\n",
              "      <script>\n",
              "        const buttonEl =\n",
              "          document.querySelector('#df-0e932be6-be0f-4c96-8c12-3dcb55e1dc1a button.colab-df-convert');\n",
              "        buttonEl.style.display =\n",
              "          google.colab.kernel.accessAllowed ? 'block' : 'none';\n",
              "\n",
              "        async function convertToInteractive(key) {\n",
              "          const element = document.querySelector('#df-0e932be6-be0f-4c96-8c12-3dcb55e1dc1a');\n",
              "          const dataTable =\n",
              "            await google.colab.kernel.invokeFunction('convertToInteractive',\n",
              "                                                     [key], {});\n",
              "          if (!dataTable) return;\n",
              "\n",
              "          const docLinkHtml = 'Like what you see? Visit the ' +\n",
              "            '<a target=\"_blank\" href=https://colab.research.google.com/notebooks/data_table.ipynb>data table notebook</a>'\n",
              "            + ' to learn more about interactive tables.';\n",
              "          element.innerHTML = '';\n",
              "          dataTable['output_type'] = 'display_data';\n",
              "          await google.colab.output.renderOutput(dataTable, element);\n",
              "          const docLink = document.createElement('div');\n",
              "          docLink.innerHTML = docLinkHtml;\n",
              "          element.appendChild(docLink);\n",
              "        }\n",
              "      </script>\n",
              "    </div>\n",
              "  </div>\n",
              "  "
            ],
            "text/plain": [
              "                                                                                                                                                                                                                                         content  ...  Polarity\n",
              "0      AJIO  Sweatshirts and Hoodies underekaroinenkr20211224s7                                                                                                                                                                                   ...  0.000000\n",
              "1      Hello  Alive Company of your words ajio   twittercomaabhishakes                                                                                                                                                                            ...  0.100000\n",
              "2      Ajio  Told me To Refund My Amount byrd December but Still Refund not Initiated I Am Complaining about this issue since days My Refund is Still Not Initiated Pls Raise Complain Regarding this                                             ...  0.000000\n",
              "3      Refund not issued by Ajio consumer complaint filed against  AJIOlifeAJIOlifeForMen AJIOlifeForWomen voxyacomviewcomplaint                                                                                                                  ... -0.300000\n",
              "4       Show me your work then There is no progress from your side Other than these auto generated messages Send me an actual message then Ill wait AJIO Fraud                                                                                    ... -0.208333\n",
              "...                                                                                                                                                        ...                                                                                    ...       ...\n",
              "28993  com Matte Grey Black Grey Solid Full Rim Aviator Lenskart Air LA Clip On LA E13284C1 Eyeglasses lenskartcomlenskartairl                                                                                                                    ...  0.016667\n",
              "28994  com today Ive taken your Gold membership placing one pair classes orderTrust same will be live up on the my expectation                                                                                                                    ...  0.068182\n",
              "28995  upadhyay com  MOTIYABEEN ka ilaz karte ho kyaIss bande karwana hai Naa jaane kaise sweemt lobe kar lete hai bina dekhe                                                                                                                     ...  0.000000\n",
              "28996   Hi We would like to inform you that your request has been escalated and is under followup for the order refund Any update with the same will be informed to you We appreciate your understanding and patience Thank you Prateek           ...  0.000000\n",
              "28997  Smiles Hi Keshav Apologies for the inconvenience We would definitely want to get this right for you We request you to DM direct message us with images of the product highlighting the issue so that we can get that sorted for you Payal  ...  0.128571\n",
              "\n",
              "[28998 rows x 3 columns]"
            ]
          },
          "metadata": {},
          "execution_count": 24
        }
      ]
    },
    {
      "cell_type": "code",
      "source": [
        "from wordcloud import WordCloud "
      ],
      "metadata": {
        "id": "szoavUlwv4TE"
      },
      "execution_count": 25,
      "outputs": []
    },
    {
      "cell_type": "code",
      "source": [
        "#plotting word cloud \n",
        "words = \" \".join([twts for twts in final_tweets['content']])\n",
        "wordcloud = WordCloud(width = 500,height=300).generate(words)\n",
        "plt.imshow(wordcloud,interpolation = 'bilinear')\n",
        "plt.axis('off')\n",
        "plt.show()"
      ],
      "metadata": {
        "colab": {
          "base_uri": "https://localhost:8080/",
          "height": 232
        },
        "id": "lK7hYMuDyDAl",
        "outputId": "4ef8fb1b-b14c-44a5-d1ab-0beca3ac2d01"
      },
      "execution_count": 26,
      "outputs": [
        {
          "output_type": "display_data",
          "data": {
            "image/png": "[encoded data removed]",
            "text/plain": [
              "<Figure size 432x288 with 1 Axes>"
            ]
          },
          "metadata": {
            "needs_background": "light"
          }
        }
      ]
    },
    {
      "cell_type": "code",
      "source": [
        "final_tweets['Polarity'].describe()"
      ],
      "metadata": {
        "colab": {
          "base_uri": "https://localhost:8080/"
        },
        "id": "ssf4Ir6z0sTK",
        "outputId": "240c25d6-12e3-4b96-b035-36d2f9751b9e"
      },
      "execution_count": 27,
      "outputs": [
        {
          "output_type": "execute_result",
          "data": {
            "text/plain": [
              "count    28998.000000\n",
              "mean     0.047889    \n",
              "std      0.267956    \n",
              "min     -1.000000    \n",
              "25%      0.000000    \n",
              "50%      0.000000    \n",
              "75%      0.112405    \n",
              "max      1.000000    \n",
              "Name: Polarity, dtype: float64"
            ]
          },
          "metadata": {},
          "execution_count": 27
        }
      ]
    },
    {
      "cell_type": "code",
      "source": [
        "# a function to perform positive negative and neutral analysis\n",
        "def tweetanalysis(polarity):\n",
        "  if polarity == 0:\n",
        "    return 'neutral'\n",
        "  elif polarity < 0 :\n",
        "    return 'negative' \n",
        "  else:\n",
        "    return 'positive' "
      ],
      "metadata": {
        "id": "Q1AaRNVLygRa"
      },
      "execution_count": 28,
      "outputs": []
    },
    {
      "cell_type": "code",
      "source": [
        "final_tweets['Analysis'] = final_tweets['Polarity'].apply(tweetanalysis)"
      ],
      "metadata": {
        "colab": {
          "base_uri": "https://localhost:8080/"
        },
        "id": "0jGdVQev1IY8",
        "outputId": "c9b2f456-4d1a-4dac-8f3d-424063265f90"
      },
      "execution_count": 29,
      "outputs": [
        {
          "output_type": "stream",
          "name": "stderr",
          "text": [
            "/usr/local/lib/python3.7/dist-packages/ipykernel_launcher.py:1: SettingWithCopyWarning: \n",
            "A value is trying to be set on a copy of a slice from a DataFrame.\n",
            "Try using .loc[row_indexer,col_indexer] = value instead\n",
            "\n",
            "See the caveats in the documentation: https://pandas.pydata.org/pandas-docs/stable/user_guide/indexing.html#returning-a-view-versus-a-copy\n",
            "  \"\"\"Entry point for launching an IPython kernel.\n"
          ]
        }
      ]
    },
    {
      "cell_type": "code",
      "source": [
        "final_tweets"
      ],
      "metadata": {
        "colab": {
          "base_uri": "https://localhost:8080/",
          "height": 537
        },
        "id": "uVM8n7c81dj_",
        "outputId": "92138954-c71e-4b5a-9161-c2235ccb90c1"
      },
      "execution_count": 30,
      "outputs": [
        {
          "output_type": "execute_result",
          "data": {
            "text/html": [
              "\n",
              "  <div id=\"df-7f1969ef-c980-415b-a990-5be2e08aa791\">\n",
              "    <div class=\"colab-df-container\">\n",
              "      <div>\n",
              "<style scoped>\n",
              "    .dataframe tbody tr th:only-of-type {\n",
              "        vertical-align: middle;\n",
              "    }\n",
              "\n",
              "    .dataframe tbody tr th {\n",
              "        vertical-align: top;\n",
              "    }\n",
              "\n",
              "    .dataframe thead th {\n",
              "        text-align: right;\n",
              "    }\n",
              "</style>\n",
              "<table border=\"1\" class=\"dataframe\">\n",
              "  <thead>\n",
              "    <tr style=\"text-align: right;\">\n",
              "      <th></th>\n",
              "      <th>content</th>\n",
              "      <th>Subjectivity</th>\n",
              "      <th>Polarity</th>\n",
              "      <th>Analysis</th>\n",
              "    </tr>\n",
              "  </thead>\n",
              "  <tbody>\n",
              "    <tr>\n",
              "      <th>0</th>\n",
              "      <td>AJIO  Sweatshirts and Hoodies underekaroinenkr20211224s7</td>\n",
              "      <td>0.000000</td>\n",
              "      <td>0.000000</td>\n",
              "      <td>neutral</td>\n",
              "    </tr>\n",
              "    <tr>\n",
              "      <th>1</th>\n",
              "      <td>Hello  Alive Company of your words ajio   twittercomaabhishakes</td>\n",
              "      <td>0.400000</td>\n",
              "      <td>0.100000</td>\n",
              "      <td>positive</td>\n",
              "    </tr>\n",
              "    <tr>\n",
              "      <th>2</th>\n",
              "      <td>Ajio  Told me To Refund My Amount byrd December but Still Refund not Initiated I Am Complaining about this issue since days My Refund is Still Not Initiated Pls Raise Complain Regarding this</td>\n",
              "      <td>0.000000</td>\n",
              "      <td>0.000000</td>\n",
              "      <td>neutral</td>\n",
              "    </tr>\n",
              "    <tr>\n",
              "      <th>3</th>\n",
              "      <td>Refund not issued by Ajio consumer complaint filed against  AJIOlifeAJIOlifeForMen AJIOlifeForWomen voxyacomviewcomplaint</td>\n",
              "      <td>0.200000</td>\n",
              "      <td>-0.300000</td>\n",
              "      <td>negative</td>\n",
              "    </tr>\n",
              "    <tr>\n",
              "      <th>4</th>\n",
              "      <td>Show me your work then There is no progress from your side Other than these auto generated messages Send me an actual message then Ill wait AJIO Fraud</td>\n",
              "      <td>0.491667</td>\n",
              "      <td>-0.208333</td>\n",
              "      <td>negative</td>\n",
              "    </tr>\n",
              "    <tr>\n",
              "      <th>...</th>\n",
              "      <td>...</td>\n",
              "      <td>...</td>\n",
              "      <td>...</td>\n",
              "      <td>...</td>\n",
              "    </tr>\n",
              "    <tr>\n",
              "      <th>28993</th>\n",
              "      <td>com Matte Grey Black Grey Solid Full Rim Aviator Lenskart Air LA Clip On LA E13284C1 Eyeglasses lenskartcomlenskartairl</td>\n",
              "      <td>0.256667</td>\n",
              "      <td>0.016667</td>\n",
              "      <td>positive</td>\n",
              "    </tr>\n",
              "    <tr>\n",
              "      <th>28994</th>\n",
              "      <td>com today Ive taken your Gold membership placing one pair classes orderTrust same will be live up on the my expectation</td>\n",
              "      <td>0.312500</td>\n",
              "      <td>0.068182</td>\n",
              "      <td>positive</td>\n",
              "    </tr>\n",
              "    <tr>\n",
              "      <th>28995</th>\n",
              "      <td>upadhyay com  MOTIYABEEN ka ilaz karte ho kyaIss bande karwana hai Naa jaane kaise sweemt lobe kar lete hai bina dekhe</td>\n",
              "      <td>0.000000</td>\n",
              "      <td>0.000000</td>\n",
              "      <td>neutral</td>\n",
              "    </tr>\n",
              "    <tr>\n",
              "      <th>28996</th>\n",
              "      <td>Hi We would like to inform you that your request has been escalated and is under followup for the order refund Any update with the same will be informed to you We appreciate your understanding and patience Thank you Prateek</td>\n",
              "      <td>0.125000</td>\n",
              "      <td>0.000000</td>\n",
              "      <td>neutral</td>\n",
              "    </tr>\n",
              "    <tr>\n",
              "      <th>28997</th>\n",
              "      <td>Smiles Hi Keshav Apologies for the inconvenience We would definitely want to get this right for you We request you to DM direct message us with images of the product highlighting the issue so that we can get that sorted for you Payal</td>\n",
              "      <td>0.478571</td>\n",
              "      <td>0.128571</td>\n",
              "      <td>positive</td>\n",
              "    </tr>\n",
              "  </tbody>\n",
              "</table>\n",
              "<p>28998 rows × 4 columns</p>\n",
              "</div>\n",
              "      <button class=\"colab-df-convert\" onclick=\"convertToInteractive('df-7f1969ef-c980-415b-a990-5be2e08aa791')\"\n",
              "              title=\"Convert this dataframe to an interactive table.\"\n",
              "              style=\"display:none;\">\n",
              "        \n",
              "  <svg xmlns=\"http://www.w3.org/2000/svg\" height=\"24px\"viewBox=\"0 0 24 24\"\n",
              "       width=\"24px\">\n",
              "    <path d=\"M0 0h24v24H0V0z\" fill=\"none\"/>\n",
              "    <path d=\"M18.56 5.44l.94 2.06.94-2.06 2.06-.94-2.06-.94-.94-2.06-.94 2.06-2.06.94zm-11 1L8.5 8.5l.94-2.06 2.06-.94-2.06-.94L8.5 2.5l-.94 2.06-2.06.94zm10 10l.94 2.06.94-2.06 2.06-.94-2.06-.94-.94-2.06-.94 2.06-2.06.94z\"/><path d=\"M17.41 7.96l-1.37-1.37c-.4-.4-.92-.59-1.43-.59-.52 0-1.04.2-1.43.59L10.3 9.45l-7.72 7.72c-.78.78-.78 2.05 0 2.83L4 21.41c.39.39.9.59 1.41.59.51 0 1.02-.2 1.41-.59l7.78-7.78 2.81-2.81c.8-.78.8-2.07 0-2.86zM5.41 20L4 18.59l7.72-7.72 1.47 1.35L5.41 20z\"/>\n",
              "  </svg>\n",
              "      </button>\n",
              "      \n",
              "  <style>\n",
              "    .colab-df-container {\n",
              "      display:flex;\n",
              "      flex-wrap:wrap;\n",
              "      gap: 12px;\n",
              "    }\n",
              "\n",
              "    .colab-df-convert {\n",
              "      background-color: #E8F0FE;\n",
              "      border: none;\n",
              "      border-radius: 50%;\n",
              "      cursor: pointer;\n",
              "      display: none;\n",
              "      fill: #1967D2;\n",
              "      height: 32px;\n",
              "      padding: 0 0 0 0;\n",
              "      width: 32px;\n",
              "    }\n",
              "\n",
              "    .colab-df-convert:hover {\n",
              "      background-color: #E2EBFA;\n",
              "      box-shadow: 0px 1px 2px rgba(60, 64, 67, 0.3), 0px 1px 3px 1px rgba(60, 64, 67, 0.15);\n",
              "      fill: #174EA6;\n",
              "    }\n",
              "\n",
              "    [theme=dark] .colab-df-convert {\n",
              "      background-color: #3B4455;\n",
              "      fill: #D2E3FC;\n",
              "    }\n",
              "\n",
              "    [theme=dark] .colab-df-convert:hover {\n",
              "      background-color: #434B5C;\n",
              "      box-shadow: 0px 1px 3px 1px rgba(0, 0, 0, 0.15);\n",
              "      filter: drop-shadow(0px 1px 2px rgba(0, 0, 0, 0.3));\n",
              "      fill: #FFFFFF;\n",
              "    }\n",
              "  </style>\n",
              "\n",
              "      <script>\n",
              "        const buttonEl =\n",
              "          document.querySelector('#df-7f1969ef-c980-415b-a990-5be2e08aa791 button.colab-df-convert');\n",
              "        buttonEl.style.display =\n",
              "          google.colab.kernel.accessAllowed ? 'block' : 'none';\n",
              "\n",
              "        async function convertToInteractive(key) {\n",
              "          const element = document.querySelector('#df-7f1969ef-c980-415b-a990-5be2e08aa791');\n",
              "          const dataTable =\n",
              "            await google.colab.kernel.invokeFunction('convertToInteractive',\n",
              "                                                     [key], {});\n",
              "          if (!dataTable) return;\n",
              "\n",
              "          const docLinkHtml = 'Like what you see? Visit the ' +\n",
              "            '<a target=\"_blank\" href=https://colab.research.google.com/notebooks/data_table.ipynb>data table notebook</a>'\n",
              "            + ' to learn more about interactive tables.';\n",
              "          element.innerHTML = '';\n",
              "          dataTable['output_type'] = 'display_data';\n",
              "          await google.colab.output.renderOutput(dataTable, element);\n",
              "          const docLink = document.createElement('div');\n",
              "          docLink.innerHTML = docLinkHtml;\n",
              "          element.appendChild(docLink);\n",
              "        }\n",
              "      </script>\n",
              "    </div>\n",
              "  </div>\n",
              "  "
            ],
            "text/plain": [
              "                                                                                                                                                                                                                                         content  ...  Analysis\n",
              "0      AJIO  Sweatshirts and Hoodies underekaroinenkr20211224s7                                                                                                                                                                                   ...  neutral \n",
              "1      Hello  Alive Company of your words ajio   twittercomaabhishakes                                                                                                                                                                            ...  positive\n",
              "2      Ajio  Told me To Refund My Amount byrd December but Still Refund not Initiated I Am Complaining about this issue since days My Refund is Still Not Initiated Pls Raise Complain Regarding this                                             ...  neutral \n",
              "3      Refund not issued by Ajio consumer complaint filed against  AJIOlifeAJIOlifeForMen AJIOlifeForWomen voxyacomviewcomplaint                                                                                                                  ...  negative\n",
              "4       Show me your work then There is no progress from your side Other than these auto generated messages Send me an actual message then Ill wait AJIO Fraud                                                                                    ...  negative\n",
              "...                                                                                                                                                        ...                                                                                    ...       ...\n",
              "28993  com Matte Grey Black Grey Solid Full Rim Aviator Lenskart Air LA Clip On LA E13284C1 Eyeglasses lenskartcomlenskartairl                                                                                                                    ...  positive\n",
              "28994  com today Ive taken your Gold membership placing one pair classes orderTrust same will be live up on the my expectation                                                                                                                    ...  positive\n",
              "28995  upadhyay com  MOTIYABEEN ka ilaz karte ho kyaIss bande karwana hai Naa jaane kaise sweemt lobe kar lete hai bina dekhe                                                                                                                     ...  neutral \n",
              "28996   Hi We would like to inform you that your request has been escalated and is under followup for the order refund Any update with the same will be informed to you We appreciate your understanding and patience Thank you Prateek           ...  neutral \n",
              "28997  Smiles Hi Keshav Apologies for the inconvenience We would definitely want to get this right for you We request you to DM direct message us with images of the product highlighting the issue so that we can get that sorted for you Payal  ...  positive\n",
              "\n",
              "[28998 rows x 4 columns]"
            ]
          },
          "metadata": {},
          "execution_count": 30
        }
      ]
    },
    {
      "cell_type": "code",
      "source": [
        "final_tweets.Polarity.replace(0,np.nan,inplace=True)"
      ],
      "metadata": {
        "colab": {
          "base_uri": "https://localhost:8080/"
        },
        "id": "uNTUUfzg1swc",
        "outputId": "62a63f55-596f-4499-de08-2b356b737fcd"
      },
      "execution_count": 31,
      "outputs": [
        {
          "output_type": "stream",
          "name": "stderr",
          "text": [
            "/usr/local/lib/python3.7/dist-packages/pandas/core/series.py:4582: SettingWithCopyWarning: \n",
            "A value is trying to be set on a copy of a slice from a DataFrame\n",
            "\n",
            "See the caveats in the documentation: https://pandas.pydata.org/pandas-docs/stable/user_guide/indexing.html#returning-a-view-versus-a-copy\n",
            "  method=method,\n"
          ]
        }
      ]
    },
    {
      "cell_type": "code",
      "source": [
        "final_tweets"
      ],
      "metadata": {
        "colab": {
          "base_uri": "https://localhost:8080/",
          "height": 537
        },
        "id": "npqRpRGA25FG",
        "outputId": "5d2a89fc-483b-4fe8-8e56-16534a0acb05"
      },
      "execution_count": 32,
      "outputs": [
        {
          "output_type": "execute_result",
          "data": {
            "text/html": [
              "\n",
              "  <div id=\"df-60a54ba6-2b79-490b-8e70-8958805264bd\">\n",
              "    <div class=\"colab-df-container\">\n",
              "      <div>\n",
              "<style scoped>\n",
              "    .dataframe tbody tr th:only-of-type {\n",
              "        vertical-align: middle;\n",
              "    }\n",
              "\n",
              "    .dataframe tbody tr th {\n",
              "        vertical-align: top;\n",
              "    }\n",
              "\n",
              "    .dataframe thead th {\n",
              "        text-align: right;\n",
              "    }\n",
              "</style>\n",
              "<table border=\"1\" class=\"dataframe\">\n",
              "  <thead>\n",
              "    <tr style=\"text-align: right;\">\n",
              "      <th></th>\n",
              "      <th>content</th>\n",
              "      <th>Subjectivity</th>\n",
              "      <th>Polarity</th>\n",
              "      <th>Analysis</th>\n",
              "    </tr>\n",
              "  </thead>\n",
              "  <tbody>\n",
              "    <tr>\n",
              "      <th>0</th>\n",
              "      <td>AJIO  Sweatshirts and Hoodies underekaroinenkr20211224s7</td>\n",
              "      <td>0.000000</td>\n",
              "      <td>NaN</td>\n",
              "      <td>neutral</td>\n",
              "    </tr>\n",
              "    <tr>\n",
              "      <th>1</th>\n",
              "      <td>Hello  Alive Company of your words ajio   twittercomaabhishakes</td>\n",
              "      <td>0.400000</td>\n",
              "      <td>0.100000</td>\n",
              "      <td>positive</td>\n",
              "    </tr>\n",
              "    <tr>\n",
              "      <th>2</th>\n",
              "      <td>Ajio  Told me To Refund My Amount byrd December but Still Refund not Initiated I Am Complaining about this issue since days My Refund is Still Not Initiated Pls Raise Complain Regarding this</td>\n",
              "      <td>0.000000</td>\n",
              "      <td>NaN</td>\n",
              "      <td>neutral</td>\n",
              "    </tr>\n",
              "    <tr>\n",
              "      <th>3</th>\n",
              "      <td>Refund not issued by Ajio consumer complaint filed against  AJIOlifeAJIOlifeForMen AJIOlifeForWomen voxyacomviewcomplaint</td>\n",
              "      <td>0.200000</td>\n",
              "      <td>-0.300000</td>\n",
              "      <td>negative</td>\n",
              "    </tr>\n",
              "    <tr>\n",
              "      <th>4</th>\n",
              "      <td>Show me your work then There is no progress from your side Other than these auto generated messages Send me an actual message then Ill wait AJIO Fraud</td>\n",
              "      <td>0.491667</td>\n",
              "      <td>-0.208333</td>\n",
              "      <td>negative</td>\n",
              "    </tr>\n",
              "    <tr>\n",
              "      <th>...</th>\n",
              "      <td>...</td>\n",
              "      <td>...</td>\n",
              "      <td>...</td>\n",
              "      <td>...</td>\n",
              "    </tr>\n",
              "    <tr>\n",
              "      <th>28993</th>\n",
              "      <td>com Matte Grey Black Grey Solid Full Rim Aviator Lenskart Air LA Clip On LA E13284C1 Eyeglasses lenskartcomlenskartairl</td>\n",
              "      <td>0.256667</td>\n",
              "      <td>0.016667</td>\n",
              "      <td>positive</td>\n",
              "    </tr>\n",
              "    <tr>\n",
              "      <th>28994</th>\n",
              "      <td>com today Ive taken your Gold membership placing one pair classes orderTrust same will be live up on the my expectation</td>\n",
              "      <td>0.312500</td>\n",
              "      <td>0.068182</td>\n",
              "      <td>positive</td>\n",
              "    </tr>\n",
              "    <tr>\n",
              "      <th>28995</th>\n",
              "      <td>upadhyay com  MOTIYABEEN ka ilaz karte ho kyaIss bande karwana hai Naa jaane kaise sweemt lobe kar lete hai bina dekhe</td>\n",
              "      <td>0.000000</td>\n",
              "      <td>NaN</td>\n",
              "      <td>neutral</td>\n",
              "    </tr>\n",
              "    <tr>\n",
              "      <th>28996</th>\n",
              "      <td>Hi We would like to inform you that your request has been escalated and is under followup for the order refund Any update with the same will be informed to you We appreciate your understanding and patience Thank you Prateek</td>\n",
              "      <td>0.125000</td>\n",
              "      <td>NaN</td>\n",
              "      <td>neutral</td>\n",
              "    </tr>\n",
              "    <tr>\n",
              "      <th>28997</th>\n",
              "      <td>Smiles Hi Keshav Apologies for the inconvenience We would definitely want to get this right for you We request you to DM direct message us with images of the product highlighting the issue so that we can get that sorted for you Payal</td>\n",
              "      <td>0.478571</td>\n",
              "      <td>0.128571</td>\n",
              "      <td>positive</td>\n",
              "    </tr>\n",
              "  </tbody>\n",
              "</table>\n",
              "<p>28998 rows × 4 columns</p>\n",
              "</div>\n",
              "      <button class=\"colab-df-convert\" onclick=\"convertToInteractive('df-60a54ba6-2b79-490b-8e70-8958805264bd')\"\n",
              "              title=\"Convert this dataframe to an interactive table.\"\n",
              "              style=\"display:none;\">\n",
              "        \n",
              "  <svg xmlns=\"http://www.w3.org/2000/svg\" height=\"24px\"viewBox=\"0 0 24 24\"\n",
              "       width=\"24px\">\n",
              "    <path d=\"M0 0h24v24H0V0z\" fill=\"none\"/>\n",
              "    <path d=\"M18.56 5.44l.94 2.06.94-2.06 2.06-.94-2.06-.94-.94-2.06-.94 2.06-2.06.94zm-11 1L8.5 8.5l.94-2.06 2.06-.94-2.06-.94L8.5 2.5l-.94 2.06-2.06.94zm10 10l.94 2.06.94-2.06 2.06-.94-2.06-.94-.94-2.06-.94 2.06-2.06.94z\"/><path d=\"M17.41 7.96l-1.37-1.37c-.4-.4-.92-.59-1.43-.59-.52 0-1.04.2-1.43.59L10.3 9.45l-7.72 7.72c-.78.78-.78 2.05 0 2.83L4 21.41c.39.39.9.59 1.41.59.51 0 1.02-.2 1.41-.59l7.78-7.78 2.81-2.81c.8-.78.8-2.07 0-2.86zM5.41 20L4 18.59l7.72-7.72 1.47 1.35L5.41 20z\"/>\n",
              "  </svg>\n",
              "      </button>\n",
              "      \n",
              "  <style>\n",
              "    .colab-df-container {\n",
              "      display:flex;\n",
              "      flex-wrap:wrap;\n",
              "      gap: 12px;\n",
              "    }\n",
              "\n",
              "    .colab-df-convert {\n",
              "      background-color: #E8F0FE;\n",
              "      border: none;\n",
              "      border-radius: 50%;\n",
              "      cursor: pointer;\n",
              "      display: none;\n",
              "      fill: #1967D2;\n",
              "      height: 32px;\n",
              "      padding: 0 0 0 0;\n",
              "      width: 32px;\n",
              "    }\n",
              "\n",
              "    .colab-df-convert:hover {\n",
              "      background-color: #E2EBFA;\n",
              "      box-shadow: 0px 1px 2px rgba(60, 64, 67, 0.3), 0px 1px 3px 1px rgba(60, 64, 67, 0.15);\n",
              "      fill: #174EA6;\n",
              "    }\n",
              "\n",
              "    [theme=dark] .colab-df-convert {\n",
              "      background-color: #3B4455;\n",
              "      fill: #D2E3FC;\n",
              "    }\n",
              "\n",
              "    [theme=dark] .colab-df-convert:hover {\n",
              "      background-color: #434B5C;\n",
              "      box-shadow: 0px 1px 3px 1px rgba(0, 0, 0, 0.15);\n",
              "      filter: drop-shadow(0px 1px 2px rgba(0, 0, 0, 0.3));\n",
              "      fill: #FFFFFF;\n",
              "    }\n",
              "  </style>\n",
              "\n",
              "      <script>\n",
              "        const buttonEl =\n",
              "          document.querySelector('#df-60a54ba6-2b79-490b-8e70-8958805264bd button.colab-df-convert');\n",
              "        buttonEl.style.display =\n",
              "          google.colab.kernel.accessAllowed ? 'block' : 'none';\n",
              "\n",
              "        async function convertToInteractive(key) {\n",
              "          const element = document.querySelector('#df-60a54ba6-2b79-490b-8e70-8958805264bd');\n",
              "          const dataTable =\n",
              "            await google.colab.kernel.invokeFunction('convertToInteractive',\n",
              "                                                     [key], {});\n",
              "          if (!dataTable) return;\n",
              "\n",
              "          const docLinkHtml = 'Like what you see? Visit the ' +\n",
              "            '<a target=\"_blank\" href=https://colab.research.google.com/notebooks/data_table.ipynb>data table notebook</a>'\n",
              "            + ' to learn more about interactive tables.';\n",
              "          element.innerHTML = '';\n",
              "          dataTable['output_type'] = 'display_data';\n",
              "          await google.colab.output.renderOutput(dataTable, element);\n",
              "          const docLink = document.createElement('div');\n",
              "          docLink.innerHTML = docLinkHtml;\n",
              "          element.appendChild(docLink);\n",
              "        }\n",
              "      </script>\n",
              "    </div>\n",
              "  </div>\n",
              "  "
            ],
            "text/plain": [
              "                                                                                                                                                                                                                                         content  ...  Analysis\n",
              "0      AJIO  Sweatshirts and Hoodies underekaroinenkr20211224s7                                                                                                                                                                                   ...  neutral \n",
              "1      Hello  Alive Company of your words ajio   twittercomaabhishakes                                                                                                                                                                            ...  positive\n",
              "2      Ajio  Told me To Refund My Amount byrd December but Still Refund not Initiated I Am Complaining about this issue since days My Refund is Still Not Initiated Pls Raise Complain Regarding this                                             ...  neutral \n",
              "3      Refund not issued by Ajio consumer complaint filed against  AJIOlifeAJIOlifeForMen AJIOlifeForWomen voxyacomviewcomplaint                                                                                                                  ...  negative\n",
              "4       Show me your work then There is no progress from your side Other than these auto generated messages Send me an actual message then Ill wait AJIO Fraud                                                                                    ...  negative\n",
              "...                                                                                                                                                        ...                                                                                    ...       ...\n",
              "28993  com Matte Grey Black Grey Solid Full Rim Aviator Lenskart Air LA Clip On LA E13284C1 Eyeglasses lenskartcomlenskartairl                                                                                                                    ...  positive\n",
              "28994  com today Ive taken your Gold membership placing one pair classes orderTrust same will be live up on the my expectation                                                                                                                    ...  positive\n",
              "28995  upadhyay com  MOTIYABEEN ka ilaz karte ho kyaIss bande karwana hai Naa jaane kaise sweemt lobe kar lete hai bina dekhe                                                                                                                     ...  neutral \n",
              "28996   Hi We would like to inform you that your request has been escalated and is under followup for the order refund Any update with the same will be informed to you We appreciate your understanding and patience Thank you Prateek           ...  neutral \n",
              "28997  Smiles Hi Keshav Apologies for the inconvenience We would definitely want to get this right for you We request you to DM direct message us with images of the product highlighting the issue so that we can get that sorted for you Payal  ...  positive\n",
              "\n",
              "[28998 rows x 4 columns]"
            ]
          },
          "metadata": {},
          "execution_count": 32
        }
      ]
    },
    {
      "cell_type": "code",
      "source": [
        "final_tweets.dropna(inplace = True)"
      ],
      "metadata": {
        "colab": {
          "base_uri": "https://localhost:8080/"
        },
        "id": "qBUQh-fB2_A-",
        "outputId": "672c2454-7419-4859-e37f-de9fa0589a9c"
      },
      "execution_count": 33,
      "outputs": [
        {
          "output_type": "stream",
          "name": "stderr",
          "text": [
            "/usr/local/lib/python3.7/dist-packages/ipykernel_launcher.py:1: SettingWithCopyWarning: \n",
            "A value is trying to be set on a copy of a slice from a DataFrame\n",
            "\n",
            "See the caveats in the documentation: https://pandas.pydata.org/pandas-docs/stable/user_guide/indexing.html#returning-a-view-versus-a-copy\n",
            "  \"\"\"Entry point for launching an IPython kernel.\n"
          ]
        }
      ]
    },
    {
      "cell_type": "code",
      "source": [
        "from sklearn.preprocessing import LabelEncoder"
      ],
      "metadata": {
        "id": "sjhVjDPMTU7A"
      },
      "execution_count": 34,
      "outputs": []
    },
    {
      "cell_type": "code",
      "source": [
        "le = LabelEncoder()"
      ],
      "metadata": {
        "id": "xDwa3aE7WBFQ"
      },
      "execution_count": 35,
      "outputs": []
    },
    {
      "cell_type": "code",
      "source": [
        "final_tweets['Target'] = le.fit_transform(final_tweets['Analysis'])"
      ],
      "metadata": {
        "colab": {
          "base_uri": "https://localhost:8080/"
        },
        "id": "02EKU4phVcv6",
        "outputId": "4cf3c3c1-5731-4e92-adfa-3c7be7324d6a"
      },
      "execution_count": 36,
      "outputs": [
        {
          "output_type": "stream",
          "name": "stderr",
          "text": [
            "/usr/local/lib/python3.7/dist-packages/ipykernel_launcher.py:1: SettingWithCopyWarning: \n",
            "A value is trying to be set on a copy of a slice from a DataFrame.\n",
            "Try using .loc[row_indexer,col_indexer] = value instead\n",
            "\n",
            "See the caveats in the documentation: https://pandas.pydata.org/pandas-docs/stable/user_guide/indexing.html#returning-a-view-versus-a-copy\n",
            "  \"\"\"Entry point for launching an IPython kernel.\n"
          ]
        }
      ]
    },
    {
      "cell_type": "code",
      "source": [
        "final_tweets"
      ],
      "metadata": {
        "colab": {
          "base_uri": "https://localhost:8080/",
          "height": 537
        },
        "id": "vx6WTGB2V8dZ",
        "outputId": "3ccfb5c6-11ab-4687-92ab-8a10c608d779"
      },
      "execution_count": 37,
      "outputs": [
        {
          "output_type": "execute_result",
          "data": {
            "text/html": [
              "\n",
              "  <div id=\"df-41da8a03-d982-4f14-aeb4-2d0f83c1a414\">\n",
              "    <div class=\"colab-df-container\">\n",
              "      <div>\n",
              "<style scoped>\n",
              "    .dataframe tbody tr th:only-of-type {\n",
              "        vertical-align: middle;\n",
              "    }\n",
              "\n",
              "    .dataframe tbody tr th {\n",
              "        vertical-align: top;\n",
              "    }\n",
              "\n",
              "    .dataframe thead th {\n",
              "        text-align: right;\n",
              "    }\n",
              "</style>\n",
              "<table border=\"1\" class=\"dataframe\">\n",
              "  <thead>\n",
              "    <tr style=\"text-align: right;\">\n",
              "      <th></th>\n",
              "      <th>content</th>\n",
              "      <th>Subjectivity</th>\n",
              "      <th>Polarity</th>\n",
              "      <th>Analysis</th>\n",
              "      <th>Target</th>\n",
              "    </tr>\n",
              "  </thead>\n",
              "  <tbody>\n",
              "    <tr>\n",
              "      <th>1</th>\n",
              "      <td>Hello  Alive Company of your words ajio   twittercomaabhishakes</td>\n",
              "      <td>0.400000</td>\n",
              "      <td>0.100000</td>\n",
              "      <td>positive</td>\n",
              "      <td>1</td>\n",
              "    </tr>\n",
              "    <tr>\n",
              "      <th>3</th>\n",
              "      <td>Refund not issued by Ajio consumer complaint filed against  AJIOlifeAJIOlifeForMen AJIOlifeForWomen voxyacomviewcomplaint</td>\n",
              "      <td>0.200000</td>\n",
              "      <td>-0.300000</td>\n",
              "      <td>negative</td>\n",
              "      <td>0</td>\n",
              "    </tr>\n",
              "    <tr>\n",
              "      <th>4</th>\n",
              "      <td>Show me your work then There is no progress from your side Other than these auto generated messages Send me an actual message then Ill wait AJIO Fraud</td>\n",
              "      <td>0.491667</td>\n",
              "      <td>-0.208333</td>\n",
              "      <td>negative</td>\n",
              "      <td>0</td>\n",
              "    </tr>\n",
              "    <tr>\n",
              "      <th>6</th>\n",
              "      <td>Its not about bad software but they are fraudsters Do not buy from Ajio ajio  twittercomimrajesh08s</td>\n",
              "      <td>0.666667</td>\n",
              "      <td>-0.700000</td>\n",
              "      <td>negative</td>\n",
              "      <td>0</td>\n",
              "    </tr>\n",
              "    <tr>\n",
              "      <th>10</th>\n",
              "      <td>yogendra kushwah delivery man talk to rudely customer Sukhwinder Kaur  Ajio</td>\n",
              "      <td>0.600000</td>\n",
              "      <td>-0.300000</td>\n",
              "      <td>negative</td>\n",
              "      <td>0</td>\n",
              "    </tr>\n",
              "    <tr>\n",
              "      <th>...</th>\n",
              "      <td>...</td>\n",
              "      <td>...</td>\n",
              "      <td>...</td>\n",
              "      <td>...</td>\n",
              "      <td>...</td>\n",
              "    </tr>\n",
              "    <tr>\n",
              "      <th>28988</th>\n",
              "      <td>Hi Farzad Apologies for the inconvenience We will definitely help you in this matter We are currently reviewing your account information and be assured we will try our best to answer all your questions accordingly Payal</td>\n",
              "      <td>0.400000</td>\n",
              "      <td>0.333333</td>\n",
              "      <td>positive</td>\n",
              "      <td>1</td>\n",
              "    </tr>\n",
              "    <tr>\n",
              "      <th>28991</th>\n",
              "      <td>Hi Dinesh Thank you for the purchase We will definitely try to meet your expectation Rest be assured we are always there to help you in case of any issue kindly write back to us Thank you Payal</td>\n",
              "      <td>0.466667</td>\n",
              "      <td>0.200000</td>\n",
              "      <td>positive</td>\n",
              "      <td>1</td>\n",
              "    </tr>\n",
              "    <tr>\n",
              "      <th>28993</th>\n",
              "      <td>com Matte Grey Black Grey Solid Full Rim Aviator Lenskart Air LA Clip On LA E13284C1 Eyeglasses lenskartcomlenskartairl</td>\n",
              "      <td>0.256667</td>\n",
              "      <td>0.016667</td>\n",
              "      <td>positive</td>\n",
              "      <td>1</td>\n",
              "    </tr>\n",
              "    <tr>\n",
              "      <th>28994</th>\n",
              "      <td>com today Ive taken your Gold membership placing one pair classes orderTrust same will be live up on the my expectation</td>\n",
              "      <td>0.312500</td>\n",
              "      <td>0.068182</td>\n",
              "      <td>positive</td>\n",
              "      <td>1</td>\n",
              "    </tr>\n",
              "    <tr>\n",
              "      <th>28997</th>\n",
              "      <td>Smiles Hi Keshav Apologies for the inconvenience We would definitely want to get this right for you We request you to DM direct message us with images of the product highlighting the issue so that we can get that sorted for you Payal</td>\n",
              "      <td>0.478571</td>\n",
              "      <td>0.128571</td>\n",
              "      <td>positive</td>\n",
              "      <td>1</td>\n",
              "    </tr>\n",
              "  </tbody>\n",
              "</table>\n",
              "<p>15598 rows × 5 columns</p>\n",
              "</div>\n",
              "      <button class=\"colab-df-convert\" onclick=\"convertToInteractive('df-41da8a03-d982-4f14-aeb4-2d0f83c1a414')\"\n",
              "              title=\"Convert this dataframe to an interactive table.\"\n",
              "              style=\"display:none;\">\n",
              "        \n",
              "  <svg xmlns=\"http://www.w3.org/2000/svg\" height=\"24px\"viewBox=\"0 0 24 24\"\n",
              "       width=\"24px\">\n",
              "    <path d=\"M0 0h24v24H0V0z\" fill=\"none\"/>\n",
              "    <path d=\"M18.56 5.44l.94 2.06.94-2.06 2.06-.94-2.06-.94-.94-2.06-.94 2.06-2.06.94zm-11 1L8.5 8.5l.94-2.06 2.06-.94-2.06-.94L8.5 2.5l-.94 2.06-2.06.94zm10 10l.94 2.06.94-2.06 2.06-.94-2.06-.94-.94-2.06-.94 2.06-2.06.94z\"/><path d=\"M17.41 7.96l-1.37-1.37c-.4-.4-.92-.59-1.43-.59-.52 0-1.04.2-1.43.59L10.3 9.45l-7.72 7.72c-.78.78-.78 2.05 0 2.83L4 21.41c.39.39.9.59 1.41.59.51 0 1.02-.2 1.41-.59l7.78-7.78 2.81-2.81c.8-.78.8-2.07 0-2.86zM5.41 20L4 18.59l7.72-7.72 1.47 1.35L5.41 20z\"/>\n",
              "  </svg>\n",
              "      </button>\n",
              "      \n",
              "  <style>\n",
              "    .colab-df-container {\n",
              "      display:flex;\n",
              "      flex-wrap:wrap;\n",
              "      gap: 12px;\n",
              "    }\n",
              "\n",
              "    .colab-df-convert {\n",
              "      background-color: #E8F0FE;\n",
              "      border: none;\n",
              "      border-radius: 50%;\n",
              "      cursor: pointer;\n",
              "      display: none;\n",
              "      fill: #1967D2;\n",
              "      height: 32px;\n",
              "      padding: 0 0 0 0;\n",
              "      width: 32px;\n",
              "    }\n",
              "\n",
              "    .colab-df-convert:hover {\n",
              "      background-color: #E2EBFA;\n",
              "      box-shadow: 0px 1px 2px rgba(60, 64, 67, 0.3), 0px 1px 3px 1px rgba(60, 64, 67, 0.15);\n",
              "      fill: #174EA6;\n",
              "    }\n",
              "\n",
              "    [theme=dark] .colab-df-convert {\n",
              "      background-color: #3B4455;\n",
              "      fill: #D2E3FC;\n",
              "    }\n",
              "\n",
              "    [theme=dark] .colab-df-convert:hover {\n",
              "      background-color: #434B5C;\n",
              "      box-shadow: 0px 1px 3px 1px rgba(0, 0, 0, 0.15);\n",
              "      filter: drop-shadow(0px 1px 2px rgba(0, 0, 0, 0.3));\n",
              "      fill: #FFFFFF;\n",
              "    }\n",
              "  </style>\n",
              "\n",
              "      <script>\n",
              "        const buttonEl =\n",
              "          document.querySelector('#df-41da8a03-d982-4f14-aeb4-2d0f83c1a414 button.colab-df-convert');\n",
              "        buttonEl.style.display =\n",
              "          google.colab.kernel.accessAllowed ? 'block' : 'none';\n",
              "\n",
              "        async function convertToInteractive(key) {\n",
              "          const element = document.querySelector('#df-41da8a03-d982-4f14-aeb4-2d0f83c1a414');\n",
              "          const dataTable =\n",
              "            await google.colab.kernel.invokeFunction('convertToInteractive',\n",
              "                                                     [key], {});\n",
              "          if (!dataTable) return;\n",
              "\n",
              "          const docLinkHtml = 'Like what you see? Visit the ' +\n",
              "            '<a target=\"_blank\" href=https://colab.research.google.com/notebooks/data_table.ipynb>data table notebook</a>'\n",
              "            + ' to learn more about interactive tables.';\n",
              "          element.innerHTML = '';\n",
              "          dataTable['output_type'] = 'display_data';\n",
              "          await google.colab.output.renderOutput(dataTable, element);\n",
              "          const docLink = document.createElement('div');\n",
              "          docLink.innerHTML = docLinkHtml;\n",
              "          element.appendChild(docLink);\n",
              "        }\n",
              "      </script>\n",
              "    </div>\n",
              "  </div>\n",
              "  "
            ],
            "text/plain": [
              "                                                                                                                                                                                                                                         content  ...  Target\n",
              "1      Hello  Alive Company of your words ajio   twittercomaabhishakes                                                                                                                                                                            ...  1     \n",
              "3      Refund not issued by Ajio consumer complaint filed against  AJIOlifeAJIOlifeForMen AJIOlifeForWomen voxyacomviewcomplaint                                                                                                                  ...  0     \n",
              "4       Show me your work then There is no progress from your side Other than these auto generated messages Send me an actual message then Ill wait AJIO Fraud                                                                                    ...  0     \n",
              "6      Its not about bad software but they are fraudsters Do not buy from Ajio ajio  twittercomimrajesh08s                                                                                                                                        ...  0     \n",
              "10      yogendra kushwah delivery man talk to rudely customer Sukhwinder Kaur  Ajio                                                                                                                                                               ...  0     \n",
              "...                                                                             ...                                                                                                                                                               ... ..     \n",
              "28988   Hi Farzad Apologies for the inconvenience We will definitely help you in this matter We are currently reviewing your account information and be assured we will try our best to answer all your questions accordingly Payal               ...  1     \n",
              "28991   Hi Dinesh Thank you for the purchase We will definitely try to meet your expectation Rest be assured we are always there to help you in case of any issue kindly write back to us Thank you Payal                                         ...  1     \n",
              "28993  com Matte Grey Black Grey Solid Full Rim Aviator Lenskart Air LA Clip On LA E13284C1 Eyeglasses lenskartcomlenskartairl                                                                                                                    ...  1     \n",
              "28994  com today Ive taken your Gold membership placing one pair classes orderTrust same will be live up on the my expectation                                                                                                                    ...  1     \n",
              "28997  Smiles Hi Keshav Apologies for the inconvenience We would definitely want to get this right for you We request you to DM direct message us with images of the product highlighting the issue so that we can get that sorted for you Payal  ...  1     \n",
              "\n",
              "[15598 rows x 5 columns]"
            ]
          },
          "metadata": {},
          "execution_count": 37
        }
      ]
    },
    {
      "cell_type": "code",
      "source": [
        "final_tweets.groupby('Target').count().plot(kind='bar')"
      ],
      "metadata": {
        "colab": {
          "base_uri": "https://localhost:8080/",
          "height": 293
        },
        "id": "bBKj5bAqWPCs",
        "outputId": "416e1d7e-3d80-4ebe-ba2d-39e66793ccef"
      },
      "execution_count": 38,
      "outputs": [
        {
          "output_type": "execute_result",
          "data": {
            "text/plain": [
              "<matplotlib.axes._subplots.AxesSubplot at 0x7f35520f5b90>"
            ]
          },
          "metadata": {},
          "execution_count": 38
        },
        {
          "output_type": "display_data",
          "data": {
            "image/png": "[encoded data removed]",
            "text/plain": [
              "<Figure size 432x288 with 1 Axes>"
            ]
          },
          "metadata": {
            "needs_background": "light"
          }
        }
      ]
    },
    {
      "cell_type": "code",
      "source": [
        "# converting all the words in the tweets to lower case \n",
        "final_tweets['content'] = final_tweets['content'].str.lower()"
      ],
      "metadata": {
        "colab": {
          "base_uri": "https://localhost:8080/"
        },
        "id": "BFF5-zsEWsnH",
        "outputId": "b0880d26-aec9-48f3-afce-3fd8159baf45"
      },
      "execution_count": 39,
      "outputs": [
        {
          "output_type": "stream",
          "name": "stderr",
          "text": [
            "/usr/local/lib/python3.7/dist-packages/ipykernel_launcher.py:2: SettingWithCopyWarning: \n",
            "A value is trying to be set on a copy of a slice from a DataFrame.\n",
            "Try using .loc[row_indexer,col_indexer] = value instead\n",
            "\n",
            "See the caveats in the documentation: https://pandas.pydata.org/pandas-docs/stable/user_guide/indexing.html#returning-a-view-versus-a-copy\n",
            "  \n"
          ]
        }
      ]
    },
    {
      "cell_type": "code",
      "source": [
        "final_tweets.tail()"
      ],
      "metadata": {
        "colab": {
          "base_uri": "https://localhost:8080/",
          "height": 302
        },
        "id": "FUvEa9CJXStE",
        "outputId": "d1f00036-b34c-41ec-a389-b57e345cafe3"
      },
      "execution_count": 40,
      "outputs": [
        {
          "output_type": "execute_result",
          "data": {
            "text/html": [
              "\n",
              "  <div id=\"df-f90a33f2-7346-4f49-9dc6-1ee796e7092f\">\n",
              "    <div class=\"colab-df-container\">\n",
              "      <div>\n",
              "<style scoped>\n",
              "    .dataframe tbody tr th:only-of-type {\n",
              "        vertical-align: middle;\n",
              "    }\n",
              "\n",
              "    .dataframe tbody tr th {\n",
              "        vertical-align: top;\n",
              "    }\n",
              "\n",
              "    .dataframe thead th {\n",
              "        text-align: right;\n",
              "    }\n",
              "</style>\n",
              "<table border=\"1\" class=\"dataframe\">\n",
              "  <thead>\n",
              "    <tr style=\"text-align: right;\">\n",
              "      <th></th>\n",
              "      <th>content</th>\n",
              "      <th>Subjectivity</th>\n",
              "      <th>Polarity</th>\n",
              "      <th>Analysis</th>\n",
              "      <th>Target</th>\n",
              "    </tr>\n",
              "  </thead>\n",
              "  <tbody>\n",
              "    <tr>\n",
              "      <th>28988</th>\n",
              "      <td>hi farzad apologies for the inconvenience we will definitely help you in this matter we are currently reviewing your account information and be assured we will try our best to answer all your questions accordingly payal</td>\n",
              "      <td>0.400000</td>\n",
              "      <td>0.333333</td>\n",
              "      <td>positive</td>\n",
              "      <td>1</td>\n",
              "    </tr>\n",
              "    <tr>\n",
              "      <th>28991</th>\n",
              "      <td>hi dinesh thank you for the purchase we will definitely try to meet your expectation rest be assured we are always there to help you in case of any issue kindly write back to us thank you payal</td>\n",
              "      <td>0.466667</td>\n",
              "      <td>0.200000</td>\n",
              "      <td>positive</td>\n",
              "      <td>1</td>\n",
              "    </tr>\n",
              "    <tr>\n",
              "      <th>28993</th>\n",
              "      <td>com matte grey black grey solid full rim aviator lenskart air la clip on la e13284c1 eyeglasses lenskartcomlenskartairl</td>\n",
              "      <td>0.256667</td>\n",
              "      <td>0.016667</td>\n",
              "      <td>positive</td>\n",
              "      <td>1</td>\n",
              "    </tr>\n",
              "    <tr>\n",
              "      <th>28994</th>\n",
              "      <td>com today ive taken your gold membership placing one pair classes ordertrust same will be live up on the my expectation</td>\n",
              "      <td>0.312500</td>\n",
              "      <td>0.068182</td>\n",
              "      <td>positive</td>\n",
              "      <td>1</td>\n",
              "    </tr>\n",
              "    <tr>\n",
              "      <th>28997</th>\n",
              "      <td>smiles hi keshav apologies for the inconvenience we would definitely want to get this right for you we request you to dm direct message us with images of the product highlighting the issue so that we can get that sorted for you payal</td>\n",
              "      <td>0.478571</td>\n",
              "      <td>0.128571</td>\n",
              "      <td>positive</td>\n",
              "      <td>1</td>\n",
              "    </tr>\n",
              "  </tbody>\n",
              "</table>\n",
              "</div>\n",
              "      <button class=\"colab-df-convert\" onclick=\"convertToInteractive('df-f90a33f2-7346-4f49-9dc6-1ee796e7092f')\"\n",
              "              title=\"Convert this dataframe to an interactive table.\"\n",
              "              style=\"display:none;\">\n",
              "        \n",
              "  <svg xmlns=\"http://www.w3.org/2000/svg\" height=\"24px\"viewBox=\"0 0 24 24\"\n",
              "       width=\"24px\">\n",
              "    <path d=\"M0 0h24v24H0V0z\" fill=\"none\"/>\n",
              "    <path d=\"M18.56 5.44l.94 2.06.94-2.06 2.06-.94-2.06-.94-.94-2.06-.94 2.06-2.06.94zm-11 1L8.5 8.5l.94-2.06 2.06-.94-2.06-.94L8.5 2.5l-.94 2.06-2.06.94zm10 10l.94 2.06.94-2.06 2.06-.94-2.06-.94-.94-2.06-.94 2.06-2.06.94z\"/><path d=\"M17.41 7.96l-1.37-1.37c-.4-.4-.92-.59-1.43-.59-.52 0-1.04.2-1.43.59L10.3 9.45l-7.72 7.72c-.78.78-.78 2.05 0 2.83L4 21.41c.39.39.9.59 1.41.59.51 0 1.02-.2 1.41-.59l7.78-7.78 2.81-2.81c.8-.78.8-2.07 0-2.86zM5.41 20L4 18.59l7.72-7.72 1.47 1.35L5.41 20z\"/>\n",
              "  </svg>\n",
              "      </button>\n",
              "      \n",
              "  <style>\n",
              "    .colab-df-container {\n",
              "      display:flex;\n",
              "      flex-wrap:wrap;\n",
              "      gap: 12px;\n",
              "    }\n",
              "\n",
              "    .colab-df-convert {\n",
              "      background-color: #E8F0FE;\n",
              "      border: none;\n",
              "      border-radius: 50%;\n",
              "      cursor: pointer;\n",
              "      display: none;\n",
              "      fill: #1967D2;\n",
              "      height: 32px;\n",
              "      padding: 0 0 0 0;\n",
              "      width: 32px;\n",
              "    }\n",
              "\n",
              "    .colab-df-convert:hover {\n",
              "      background-color: #E2EBFA;\n",
              "      box-shadow: 0px 1px 2px rgba(60, 64, 67, 0.3), 0px 1px 3px 1px rgba(60, 64, 67, 0.15);\n",
              "      fill: #174EA6;\n",
              "    }\n",
              "\n",
              "    [theme=dark] .colab-df-convert {\n",
              "      background-color: #3B4455;\n",
              "      fill: #D2E3FC;\n",
              "    }\n",
              "\n",
              "    [theme=dark] .colab-df-convert:hover {\n",
              "      background-color: #434B5C;\n",
              "      box-shadow: 0px 1px 3px 1px rgba(0, 0, 0, 0.15);\n",
              "      filter: drop-shadow(0px 1px 2px rgba(0, 0, 0, 0.3));\n",
              "      fill: #FFFFFF;\n",
              "    }\n",
              "  </style>\n",
              "\n",
              "      <script>\n",
              "        const buttonEl =\n",
              "          document.querySelector('#df-f90a33f2-7346-4f49-9dc6-1ee796e7092f button.colab-df-convert');\n",
              "        buttonEl.style.display =\n",
              "          google.colab.kernel.accessAllowed ? 'block' : 'none';\n",
              "\n",
              "        async function convertToInteractive(key) {\n",
              "          const element = document.querySelector('#df-f90a33f2-7346-4f49-9dc6-1ee796e7092f');\n",
              "          const dataTable =\n",
              "            await google.colab.kernel.invokeFunction('convertToInteractive',\n",
              "                                                     [key], {});\n",
              "          if (!dataTable) return;\n",
              "\n",
              "          const docLinkHtml = 'Like what you see? Visit the ' +\n",
              "            '<a target=\"_blank\" href=https://colab.research.google.com/notebooks/data_table.ipynb>data table notebook</a>'\n",
              "            + ' to learn more about interactive tables.';\n",
              "          element.innerHTML = '';\n",
              "          dataTable['output_type'] = 'display_data';\n",
              "          await google.colab.output.renderOutput(dataTable, element);\n",
              "          const docLink = document.createElement('div');\n",
              "          docLink.innerHTML = docLinkHtml;\n",
              "          element.appendChild(docLink);\n",
              "        }\n",
              "      </script>\n",
              "    </div>\n",
              "  </div>\n",
              "  "
            ],
            "text/plain": [
              "                                                                                                                                                                                                                                         content  ...  Target\n",
              "28988   hi farzad apologies for the inconvenience we will definitely help you in this matter we are currently reviewing your account information and be assured we will try our best to answer all your questions accordingly payal               ...  1     \n",
              "28991   hi dinesh thank you for the purchase we will definitely try to meet your expectation rest be assured we are always there to help you in case of any issue kindly write back to us thank you payal                                         ...  1     \n",
              "28993  com matte grey black grey solid full rim aviator lenskart air la clip on la e13284c1 eyeglasses lenskartcomlenskartairl                                                                                                                    ...  1     \n",
              "28994  com today ive taken your gold membership placing one pair classes ordertrust same will be live up on the my expectation                                                                                                                    ...  1     \n",
              "28997  smiles hi keshav apologies for the inconvenience we would definitely want to get this right for you we request you to dm direct message us with images of the product highlighting the issue so that we can get that sorted for you payal  ...  1     \n",
              "\n",
              "[5 rows x 5 columns]"
            ]
          },
          "metadata": {},
          "execution_count": 40
        }
      ]
    },
    {
      "cell_type": "code",
      "source": [
        "final_tweets.reset_index(drop=True)"
      ],
      "metadata": {
        "colab": {
          "base_uri": "https://localhost:8080/",
          "height": 537
        },
        "id": "7HrK7smvXVZY",
        "outputId": "0285c5ce-dbd3-4859-9508-935861b8a154"
      },
      "execution_count": 41,
      "outputs": [
        {
          "output_type": "execute_result",
          "data": {
            "text/html": [
              "\n",
              "  <div id=\"df-008ca728-8ada-43b1-8ec0-1a00f0327198\">\n",
              "    <div class=\"colab-df-container\">\n",
              "      <div>\n",
              "<style scoped>\n",
              "    .dataframe tbody tr th:only-of-type {\n",
              "        vertical-align: middle;\n",
              "    }\n",
              "\n",
              "    .dataframe tbody tr th {\n",
              "        vertical-align: top;\n",
              "    }\n",
              "\n",
              "    .dataframe thead th {\n",
              "        text-align: right;\n",
              "    }\n",
              "</style>\n",
              "<table border=\"1\" class=\"dataframe\">\n",
              "  <thead>\n",
              "    <tr style=\"text-align: right;\">\n",
              "      <th></th>\n",
              "      <th>content</th>\n",
              "      <th>Subjectivity</th>\n",
              "      <th>Polarity</th>\n",
              "      <th>Analysis</th>\n",
              "      <th>Target</th>\n",
              "    </tr>\n",
              "  </thead>\n",
              "  <tbody>\n",
              "    <tr>\n",
              "      <th>0</th>\n",
              "      <td>hello  alive company of your words ajio   twittercomaabhishakes</td>\n",
              "      <td>0.400000</td>\n",
              "      <td>0.100000</td>\n",
              "      <td>positive</td>\n",
              "      <td>1</td>\n",
              "    </tr>\n",
              "    <tr>\n",
              "      <th>1</th>\n",
              "      <td>refund not issued by ajio consumer complaint filed against  ajiolifeajiolifeformen ajiolifeforwomen voxyacomviewcomplaint</td>\n",
              "      <td>0.200000</td>\n",
              "      <td>-0.300000</td>\n",
              "      <td>negative</td>\n",
              "      <td>0</td>\n",
              "    </tr>\n",
              "    <tr>\n",
              "      <th>2</th>\n",
              "      <td>show me your work then there is no progress from your side other than these auto generated messages send me an actual message then ill wait ajio fraud</td>\n",
              "      <td>0.491667</td>\n",
              "      <td>-0.208333</td>\n",
              "      <td>negative</td>\n",
              "      <td>0</td>\n",
              "    </tr>\n",
              "    <tr>\n",
              "      <th>3</th>\n",
              "      <td>its not about bad software but they are fraudsters do not buy from ajio ajio  twittercomimrajesh08s</td>\n",
              "      <td>0.666667</td>\n",
              "      <td>-0.700000</td>\n",
              "      <td>negative</td>\n",
              "      <td>0</td>\n",
              "    </tr>\n",
              "    <tr>\n",
              "      <th>4</th>\n",
              "      <td>yogendra kushwah delivery man talk to rudely customer sukhwinder kaur  ajio</td>\n",
              "      <td>0.600000</td>\n",
              "      <td>-0.300000</td>\n",
              "      <td>negative</td>\n",
              "      <td>0</td>\n",
              "    </tr>\n",
              "    <tr>\n",
              "      <th>...</th>\n",
              "      <td>...</td>\n",
              "      <td>...</td>\n",
              "      <td>...</td>\n",
              "      <td>...</td>\n",
              "      <td>...</td>\n",
              "    </tr>\n",
              "    <tr>\n",
              "      <th>15593</th>\n",
              "      <td>hi farzad apologies for the inconvenience we will definitely help you in this matter we are currently reviewing your account information and be assured we will try our best to answer all your questions accordingly payal</td>\n",
              "      <td>0.400000</td>\n",
              "      <td>0.333333</td>\n",
              "      <td>positive</td>\n",
              "      <td>1</td>\n",
              "    </tr>\n",
              "    <tr>\n",
              "      <th>15594</th>\n",
              "      <td>hi dinesh thank you for the purchase we will definitely try to meet your expectation rest be assured we are always there to help you in case of any issue kindly write back to us thank you payal</td>\n",
              "      <td>0.466667</td>\n",
              "      <td>0.200000</td>\n",
              "      <td>positive</td>\n",
              "      <td>1</td>\n",
              "    </tr>\n",
              "    <tr>\n",
              "      <th>15595</th>\n",
              "      <td>com matte grey black grey solid full rim aviator lenskart air la clip on la e13284c1 eyeglasses lenskartcomlenskartairl</td>\n",
              "      <td>0.256667</td>\n",
              "      <td>0.016667</td>\n",
              "      <td>positive</td>\n",
              "      <td>1</td>\n",
              "    </tr>\n",
              "    <tr>\n",
              "      <th>15596</th>\n",
              "      <td>com today ive taken your gold membership placing one pair classes ordertrust same will be live up on the my expectation</td>\n",
              "      <td>0.312500</td>\n",
              "      <td>0.068182</td>\n",
              "      <td>positive</td>\n",
              "      <td>1</td>\n",
              "    </tr>\n",
              "    <tr>\n",
              "      <th>15597</th>\n",
              "      <td>smiles hi keshav apologies for the inconvenience we would definitely want to get this right for you we request you to dm direct message us with images of the product highlighting the issue so that we can get that sorted for you payal</td>\n",
              "      <td>0.478571</td>\n",
              "      <td>0.128571</td>\n",
              "      <td>positive</td>\n",
              "      <td>1</td>\n",
              "    </tr>\n",
              "  </tbody>\n",
              "</table>\n",
              "<p>15598 rows × 5 columns</p>\n",
              "</div>\n",
              "      <button class=\"colab-df-convert\" onclick=\"convertToInteractive('df-008ca728-8ada-43b1-8ec0-1a00f0327198')\"\n",
              "              title=\"Convert this dataframe to an interactive table.\"\n",
              "              style=\"display:none;\">\n",
              "        \n",
              "  <svg xmlns=\"http://www.w3.org/2000/svg\" height=\"24px\"viewBox=\"0 0 24 24\"\n",
              "       width=\"24px\">\n",
              "    <path d=\"M0 0h24v24H0V0z\" fill=\"none\"/>\n",
              "    <path d=\"M18.56 5.44l.94 2.06.94-2.06 2.06-.94-2.06-.94-.94-2.06-.94 2.06-2.06.94zm-11 1L8.5 8.5l.94-2.06 2.06-.94-2.06-.94L8.5 2.5l-.94 2.06-2.06.94zm10 10l.94 2.06.94-2.06 2.06-.94-2.06-.94-.94-2.06-.94 2.06-2.06.94z\"/><path d=\"M17.41 7.96l-1.37-1.37c-.4-.4-.92-.59-1.43-.59-.52 0-1.04.2-1.43.59L10.3 9.45l-7.72 7.72c-.78.78-.78 2.05 0 2.83L4 21.41c.39.39.9.59 1.41.59.51 0 1.02-.2 1.41-.59l7.78-7.78 2.81-2.81c.8-.78.8-2.07 0-2.86zM5.41 20L4 18.59l7.72-7.72 1.47 1.35L5.41 20z\"/>\n",
              "  </svg>\n",
              "      </button>\n",
              "      \n",
              "  <style>\n",
              "    .colab-df-container {\n",
              "      display:flex;\n",
              "      flex-wrap:wrap;\n",
              "      gap: 12px;\n",
              "    }\n",
              "\n",
              "    .colab-df-convert {\n",
              "      background-color: #E8F0FE;\n",
              "      border: none;\n",
              "      border-radius: 50%;\n",
              "      cursor: pointer;\n",
              "      display: none;\n",
              "      fill: #1967D2;\n",
              "      height: 32px;\n",
              "      padding: 0 0 0 0;\n",
              "      width: 32px;\n",
              "    }\n",
              "\n",
              "    .colab-df-convert:hover {\n",
              "      background-color: #E2EBFA;\n",
              "      box-shadow: 0px 1px 2px rgba(60, 64, 67, 0.3), 0px 1px 3px 1px rgba(60, 64, 67, 0.15);\n",
              "      fill: #174EA6;\n",
              "    }\n",
              "\n",
              "    [theme=dark] .colab-df-convert {\n",
              "      background-color: #3B4455;\n",
              "      fill: #D2E3FC;\n",
              "    }\n",
              "\n",
              "    [theme=dark] .colab-df-convert:hover {\n",
              "      background-color: #434B5C;\n",
              "      box-shadow: 0px 1px 3px 1px rgba(0, 0, 0, 0.15);\n",
              "      filter: drop-shadow(0px 1px 2px rgba(0, 0, 0, 0.3));\n",
              "      fill: #FFFFFF;\n",
              "    }\n",
              "  </style>\n",
              "\n",
              "      <script>\n",
              "        const buttonEl =\n",
              "          document.querySelector('#df-008ca728-8ada-43b1-8ec0-1a00f0327198 button.colab-df-convert');\n",
              "        buttonEl.style.display =\n",
              "          google.colab.kernel.accessAllowed ? 'block' : 'none';\n",
              "\n",
              "        async function convertToInteractive(key) {\n",
              "          const element = document.querySelector('#df-008ca728-8ada-43b1-8ec0-1a00f0327198');\n",
              "          const dataTable =\n",
              "            await google.colab.kernel.invokeFunction('convertToInteractive',\n",
              "                                                     [key], {});\n",
              "          if (!dataTable) return;\n",
              "\n",
              "          const docLinkHtml = 'Like what you see? Visit the ' +\n",
              "            '<a target=\"_blank\" href=https://colab.research.google.com/notebooks/data_table.ipynb>data table notebook</a>'\n",
              "            + ' to learn more about interactive tables.';\n",
              "          element.innerHTML = '';\n",
              "          dataTable['output_type'] = 'display_data';\n",
              "          await google.colab.output.renderOutput(dataTable, element);\n",
              "          const docLink = document.createElement('div');\n",
              "          docLink.innerHTML = docLinkHtml;\n",
              "          element.appendChild(docLink);\n",
              "        }\n",
              "      </script>\n",
              "    </div>\n",
              "  </div>\n",
              "  "
            ],
            "text/plain": [
              "                                                                                                                                                                                                                                         content  ...  Target\n",
              "0      hello  alive company of your words ajio   twittercomaabhishakes                                                                                                                                                                            ...  1     \n",
              "1      refund not issued by ajio consumer complaint filed against  ajiolifeajiolifeformen ajiolifeforwomen voxyacomviewcomplaint                                                                                                                  ...  0     \n",
              "2       show me your work then there is no progress from your side other than these auto generated messages send me an actual message then ill wait ajio fraud                                                                                    ...  0     \n",
              "3      its not about bad software but they are fraudsters do not buy from ajio ajio  twittercomimrajesh08s                                                                                                                                        ...  0     \n",
              "4       yogendra kushwah delivery man talk to rudely customer sukhwinder kaur  ajio                                                                                                                                                               ...  0     \n",
              "...                                                                             ...                                                                                                                                                               ... ..     \n",
              "15593   hi farzad apologies for the inconvenience we will definitely help you in this matter we are currently reviewing your account information and be assured we will try our best to answer all your questions accordingly payal               ...  1     \n",
              "15594   hi dinesh thank you for the purchase we will definitely try to meet your expectation rest be assured we are always there to help you in case of any issue kindly write back to us thank you payal                                         ...  1     \n",
              "15595  com matte grey black grey solid full rim aviator lenskart air la clip on la e13284c1 eyeglasses lenskartcomlenskartairl                                                                                                                    ...  1     \n",
              "15596  com today ive taken your gold membership placing one pair classes ordertrust same will be live up on the my expectation                                                                                                                    ...  1     \n",
              "15597  smiles hi keshav apologies for the inconvenience we would definitely want to get this right for you we request you to dm direct message us with images of the product highlighting the issue so that we can get that sorted for you payal  ...  1     \n",
              "\n",
              "[15598 rows x 5 columns]"
            ]
          },
          "metadata": {},
          "execution_count": 41
        }
      ]
    },
    {
      "cell_type": "code",
      "source": [
        "# seperating X and Y\n",
        "X = final_tweets.content\n",
        "Y = final_tweets.Target"
      ],
      "metadata": {
        "id": "NdVLgrCVhF8P"
      },
      "execution_count": 42,
      "outputs": []
    },
    {
      "cell_type": "code",
      "source": [
        "# Splitting the data in to training and testing\n",
        "from sklearn.model_selection import train_test_split"
      ],
      "metadata": {
        "id": "ZNcoSscRhTjg"
      },
      "execution_count": 43,
      "outputs": []
    },
    {
      "cell_type": "code",
      "source": [
        "x_train , x_test, y_train, y_test = train_test_split(X,Y, test_size = 0.2,random_state = 400) "
      ],
      "metadata": {
        "id": "0x6z90Skia4N"
      },
      "execution_count": 44,
      "outputs": []
    },
    {
      "cell_type": "code",
      "source": [
        "x_train"
      ],
      "metadata": {
        "colab": {
          "base_uri": "https://localhost:8080/"
        },
        "id": "8y1QR07Qi8jx",
        "outputId": "93b04398-09a5-4c9a-ce76-7b1c8ffb744a"
      },
      "execution_count": 45,
      "outputs": [
        {
          "output_type": "execute_result",
          "data": {
            "text/plain": [
              "2766     ajio flat off on and aboveuse code trends55bitly3esbmm4                                                                                                                                                                      \n",
              "28738    com thank you so much for helping me                                                                                                                                                                                         \n",
              "10176     would love to try oneplus budsso i vote for itbigbillionmuqabla bigbilliondays                                                                                                                                              \n",
              "18995    with offers so exciting you wouldnt need to do a money heistbigbasket moneyheist5 moneyheistseason5 moneyheist moneyhiest                                                                                                    \n",
              "24332    s hi shipra we apologize for the bad experience you had we have forwarded the request to remove your details from promotional communication and it will be completed within the next days thank you for your patience prateek\n",
              "                                                                                                                     ...                                                                                                              \n",
              "230      never order any product online on ajioi have been scammedajioscammer customersupport is not good                                                                                                                             \n",
              "25268    we started the digital revolution in spectacles buying in india and with time many features have been introduced anupamtripathi com tvbrandfest2021                                                                          \n",
              "3526     aluminium fry pancm red atamznto3uqitpg              amazon flipkart ajio myntra shopping deals offers                                                                                                                       \n",
              "4782     ajio  flat off code onuse code  ek80link  ekaroinenkr20210320s1                                                                                                                                                              \n",
              "6310      bigbilliondays beaten  greatindianfestival sale great deal i bought tv mobiles fashion machine many more great deals on offer and all  amp  with no processing fees on zero cost emi compare to bank rs200 processing fees  \n",
              "Name: content, Length: 12478, dtype: object"
            ]
          },
          "metadata": {},
          "execution_count": 45
        }
      ]
    },
    {
      "cell_type": "code",
      "source": [
        "x_test"
      ],
      "metadata": {
        "colab": {
          "base_uri": "https://localhost:8080/"
        },
        "id": "-t-SPhC-i93p",
        "outputId": "182fc7c3-3dda-469b-b580-b705da6abc5a"
      },
      "execution_count": 46,
      "outputs": [
        {
          "output_type": "execute_result",
          "data": {
            "text/plain": [
              "863      last day to steal the dealshop at ajio through yono and enjoy up to discount get additional off on using sbi card visit sbiyonosbi yono ajio fashion sale offers                                                                                                     \n",
              "23788     hi raviprakash thank you for the information we will share an update via dm soon thanks  naushad                                                                                                                                                                    \n",
              "17154      we appreciate your patience however its not our intention to keep you waiting and thus well have the matter resolved appropriately                                                                                                                                 \n",
              "23763     hi anurag we tried to call you in order to have a discussion on your concern but were unable to get connected hence we would request you to please share your preferred time via dm so that we could assist you accordingly thank you shubham                       \n",
              "8136     bought iphone from amazon in greatindianfestival is a fraudbought iphone from flipkart in bigbilliondays  sale is scamrecent trending thumbnail in youtubenote why most of the scam or fraud are happen to youtubers justasking                                      \n",
              "                                                                                                                      ...                                                                                                                                                     \n",
              "27978    lenskart latest jobs th pass eligible  no laptop required  freshers can apply  latest jobs livejobshomeblogspotcom202111lenska                                                                                                                                       \n",
              "11843    primeday i mean its protein xd                                                                                                                                                                                                                                       \n",
              "1287     ajio customerservice customerexperience is the worst amongst all ecommerce they dont care about resolving queries waiting time is almost half an hour and after that hardly any concrete reply ceovineethnair someone please help                                    \n",
              "22421     yeah but i had the worst experience with you people anyway this was my first and last order at big bazaar i am going back to com thank you for nothing                                                                                                              \n",
              "16173    messing around on procreate because im gonna be honest lmao i didnt know it had an animation function  i just wanted to have a good time and warm up do to some lipsyncs with my sick new voice lines i clippedso thats whats on the agenda for tonightalsofuckhorns \n",
              "Name: content, Length: 3120, dtype: object"
            ]
          },
          "metadata": {},
          "execution_count": 46
        }
      ]
    },
    {
      "cell_type": "code",
      "source": [
        "# Lets transform the data usign th Tf-IDF Vectorizer "
      ],
      "metadata": {
        "id": "Jcsr4C0AjWe8"
      },
      "execution_count": 47,
      "outputs": []
    },
    {
      "cell_type": "code",
      "source": [
        "from sklearn.feature_extraction.text import TfidfVectorizer"
      ],
      "metadata": {
        "id": "4QxJ8Z0PmWCJ"
      },
      "execution_count": 48,
      "outputs": []
    },
    {
      "cell_type": "code",
      "source": [
        "vectorizer = TfidfVectorizer()\n",
        "vectorizer.fit(x_train)"
      ],
      "metadata": {
        "colab": {
          "base_uri": "https://localhost:8080/"
        },
        "id": "B8EpFwJambbm",
        "outputId": "be55bc36-ffc7-4922-f4cd-254c65c38331"
      },
      "execution_count": 49,
      "outputs": [
        {
          "output_type": "execute_result",
          "data": {
            "text/plain": [
              "TfidfVectorizer()"
            ]
          },
          "metadata": {},
          "execution_count": 49
        }
      ]
    },
    {
      "cell_type": "code",
      "source": [
        "x_train = vectorizer.transform(x_train)\n",
        "x_test = vectorizer.transform(x_test)"
      ],
      "metadata": {
        "id": "w5ro7jXTnqjF"
      },
      "execution_count": 50,
      "outputs": []
    },
    {
      "cell_type": "code",
      "source": [
        "from sklearn.ensemble import RandomForestClassifier"
      ],
      "metadata": {
        "id": "GTmRk5fIuhCn"
      },
      "execution_count": 51,
      "outputs": []
    },
    {
      "cell_type": "code",
      "source": [
        "# implement RandomForest Classifier\n",
        "randomclassifier=RandomForestClassifier(n_estimators=200,criterion='entropy')\n",
        "randomclassifier.fit(x_train, y_train)"
      ],
      "metadata": {
        "colab": {
          "base_uri": "https://localhost:8080/"
        },
        "id": "6lXjwwZRu6-y",
        "outputId": "9efa6f2c-a39f-4f5b-8c45-0234551cc1af"
      },
      "execution_count": 52,
      "outputs": [
        {
          "output_type": "execute_result",
          "data": {
            "text/plain": [
              "RandomForestClassifier(criterion='entropy', n_estimators=200)"
            ]
          },
          "metadata": {},
          "execution_count": 52
        }
      ]
    },
    {
      "cell_type": "code",
      "source": [
        "y_predict = randomclassifier.predict(x_test)"
      ],
      "metadata": {
        "id": "_eE2CYT8vUkT"
      },
      "execution_count": 53,
      "outputs": []
    },
    {
      "cell_type": "code",
      "source": [
        "## Import library to check accuracy\n",
        "from sklearn.metrics import classification_report,confusion_matrix,accuracy_score"
      ],
      "metadata": {
        "id": "vCZHYNQJw3gL"
      },
      "execution_count": 54,
      "outputs": []
    },
    {
      "cell_type": "code",
      "source": [
        "matrix=confusion_matrix(y_test,y_predict)\n",
        "print(matrix)\n",
        "score=accuracy_score(y_test,y_predict)\n",
        "print(score)\n",
        "report=classification_report(y_test,y_predict)\n",
        "print(report)"
      ],
      "metadata": {
        "colab": {
          "base_uri": "https://localhost:8080/"
        },
        "id": "zTcscUutxbe7",
        "outputId": "b37463c4-8e3e-442a-91f1-bfb32f7af6fc"
      },
      "execution_count": 55,
      "outputs": [
        {
          "output_type": "stream",
          "name": "stdout",
          "text": [
            "[[ 806  272]\n",
            " [ 125 1917]]\n",
            "0.8727564102564103\n",
            "              precision    recall  f1-score   support\n",
            "\n",
            "           0       0.87      0.75      0.80      1078\n",
            "           1       0.88      0.94      0.91      2042\n",
            "\n",
            "    accuracy                           0.87      3120\n",
            "   macro avg       0.87      0.84      0.85      3120\n",
            "weighted avg       0.87      0.87      0.87      3120\n",
            "\n"
          ]
        }
      ]
    },
    {
      "cell_type": "code",
      "source": [
        "# plotting ROC curv\n",
        "from sklearn.metrics import roc_curve, auc\n",
        "fpr, tpr, thresholds = roc_curve(y_test, y_predict)\n",
        "roc_auc = auc(fpr, tpr)\n",
        "plt.figure()\n",
        "plt.plot(fpr, tpr, color='darkorange', lw=1, label='ROC curve (area = %0.2f)' % roc_auc)\n",
        "plt.xlabel('False Positive Rate')\n",
        "plt.ylabel('True Positive Rate')\n",
        "plt.title('ROC CURVE')\n",
        "plt.legend(loc=\"lower right\")\n",
        "plt.show()"
      ],
      "metadata": {
        "colab": {
          "base_uri": "https://localhost:8080/",
          "height": 295
        },
        "id": "mhHFyE2Mxpsy",
        "outputId": "b75ce107-c6e1-4007-e30c-4e4344eb67bc"
      },
      "execution_count": 56,
      "outputs": [
        {
          "output_type": "display_data",
          "data": {
            "image/png": "[encoded data removed]",
            "text/plain": [
              "<Figure size 432x288 with 1 Axes>"
            ]
          },
          "metadata": {
            "needs_background": "light"
          }
        }
      ]
    },
    {
      "cell_type": "code",
      "source": [
        "from xgboost import XGBClassifier"
      ],
      "metadata": {
        "id": "vxTS0NyRycs6"
      },
      "execution_count": 57,
      "outputs": []
    },
    {
      "cell_type": "code",
      "source": [
        "model = XGBClassifier(random_state=0)\n",
        "model.fit(x_train, y_train)"
      ],
      "metadata": {
        "colab": {
          "base_uri": "https://localhost:8080/"
        },
        "id": "Gf7hlLzczPM_",
        "outputId": "6b21deb7-5c34-4ba2-f9e7-47f55fc68654"
      },
      "execution_count": 58,
      "outputs": [
        {
          "output_type": "execute_result",
          "data": {
            "text/plain": [
              "XGBClassifier()"
            ]
          },
          "metadata": {},
          "execution_count": 58
        }
      ]
    },
    {
      "cell_type": "code",
      "source": [
        "y_pred1 = model.predict(x_test)"
      ],
      "metadata": {
        "id": "DbKqlL3azTQh"
      },
      "execution_count": 59,
      "outputs": []
    },
    {
      "cell_type": "code",
      "source": [
        "matrix=confusion_matrix(y_test,y_pred1)\n",
        "print(matrix)\n",
        "score=accuracy_score(y_test,y_pred1)\n",
        "print(score)\n",
        "report=classification_report(y_test,y_pred1)\n",
        "print(report)"
      ],
      "metadata": {
        "colab": {
          "base_uri": "https://localhost:8080/"
        },
        "id": "stsnWlkvzhgO",
        "outputId": "2869fbd7-fbdc-4fec-f8bc-47e06bfeb8ae"
      },
      "execution_count": 60,
      "outputs": [
        {
          "output_type": "stream",
          "name": "stdout",
          "text": [
            "[[ 643  435]\n",
            " [  58 1984]]\n",
            "0.8419871794871795\n",
            "              precision    recall  f1-score   support\n",
            "\n",
            "           0       0.92      0.60      0.72      1078\n",
            "           1       0.82      0.97      0.89      2042\n",
            "\n",
            "    accuracy                           0.84      3120\n",
            "   macro avg       0.87      0.78      0.81      3120\n",
            "weighted avg       0.85      0.84      0.83      3120\n",
            "\n"
          ]
        }
      ]
    },
    {
      "cell_type": "code",
      "source": [
        "fpr, tpr, thresholds = roc_curve(y_test, y_pred1)\n",
        "roc_auc = auc(fpr, tpr)\n",
        "plt.figure()\n",
        "plt.plot(fpr, tpr, color='darkorange', lw=1, label='ROC curve (area = %0.2f)' % roc_auc)\n",
        "plt.xlabel('False Positive Rate')\n",
        "plt.ylabel('True Positive Rate')\n",
        "plt.title('ROC CURVE')\n",
        "plt.legend(loc=\"lower right\")\n",
        "plt.show()"
      ],
      "metadata": {
        "colab": {
          "base_uri": "https://localhost:8080/",
          "height": 295
        },
        "id": "UbyEIxthzofK",
        "outputId": "85e55198-7629-448b-f9e0-9d3365da2622"
      },
      "execution_count": 61,
      "outputs": [
        {
          "output_type": "display_data",
          "data": {
            "image/png": "[encoded data removed]",
            "text/plain": [
              "<Figure size 432x288 with 1 Axes>"
            ]
          },
          "metadata": {
            "needs_background": "light"
          }
        }
      ]
    },
    {
      "cell_type": "code",
      "source": [
        "import pickle"
      ],
      "metadata": {
        "id": "xK5-X9IsFv1z"
      },
      "execution_count": 62,
      "outputs": []
    },
    {
      "cell_type": "code",
      "source": [
        "filename = 'Sentiment_analysis.pkl'\n",
        "pickle.dump(randomclassifier,open(filename,'wb'))"
      ],
      "metadata": {
        "id": "FmTgx4H-HwRZ"
      },
      "execution_count": 68,
      "outputs": []
    },
    {
      "cell_type": "code",
      "source": [
        "#!pip freeze > requirements.txt"
      ],
      "metadata": {
        "id": "hOjbGeL8IJ-E"
      },
      "execution_count": 67,
      "outputs": []
    },
    {
      "cell_type": "code",
      "source": [
        "filename = 'transformer.pkl'\n",
        "pickle.dump(vectorizer,open(filename,'wb'))"
      ],
      "metadata": {
        "id": "1GYfX035MWHx"
      },
      "execution_count": 69,
      "outputs": []
    },
    {
      "cell_type": "code",
      "source": [
        ""
      ],
      "metadata": {
        "id": "yE_GBLx7aHUO"
      },
      "execution_count": null,
      "outputs": []
    }
  ]
}